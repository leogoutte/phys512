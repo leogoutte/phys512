{
 "cells": [
  {
   "cell_type": "code",
   "execution_count": 1,
   "id": "333be0ac",
   "metadata": {},
   "outputs": [],
   "source": [
    "import numpy as np\n",
    "import matplotlib.pyplot as plt"
   ]
  },
  {
   "cell_type": "markdown",
   "id": "3a56eb4a",
   "metadata": {},
   "source": [
    "# Problem set 5\n",
    "\n",
    "I had a bit of trouble installing `camb`, since I am on an Apple chip and have non-native python (i.e. x86 python) running for whatever reason. Rigel helped me get this up and running by installing a virtual environment and installing `camb` there with `conda create -n camb -c conda-forge python=3.9 camb`. That said, I don't know how to run Jupyter notebooks in virtual environments, so this notebook is more of a walkthrough of my procedure, with relevant code and results attached.\n",
    "\n",
    "All relevant data and code files are in the `/mcmc` folder."
   ]
  },
  {
   "cell_type": "markdown",
   "id": "7c3c0827",
   "metadata": {},
   "source": [
    "## 1)"
   ]
  },
  {
   "cell_type": "markdown",
   "id": "7269184a",
   "metadata": {},
   "source": [
    "Running `plank_likelihood.py` for the parameters already included, one obtains the result:\n",
    "\n",
    "```\n",
    "chisq is  15267.937968194292  for  2501  degrees of freedom.\n",
    "```\n",
    "\n",
    "This is *not* a good fit. We should expect a $\\chi^2$ value near $<{\\chi^2}> = n$ and within $\\Delta \\chi^2 = 2n$ where $n$ is the number of degrees of freedom. In this case, $n = 2501$ and therefore the $\\chi^2$ does not fall within the expected value of $\\chi^2$ provided the $n$ of this problem: $15267.93 \\neq 2501 \\pm 5002$. Therefore, the parameters dialed into the test script do not constitute a good fit.  \n",
    "\n",
    "If we instead take ``` pars=np.asarray([69,0.022,0.12,0.06,2.1e-9,0.95]) ```, we obtain\n",
    "\n",
    "```\n",
    "chisq is  3272.203604462886  for  2501  degrees of freedom.\n",
    "```\n",
    "\n",
    "This $\\chi^2$ *is* within error to the expected $\\chi^2$: $3272.203 = 2501 \\pm 5002$ (don't worry about sig figs for now).\n",
    "\n",
    "Here is an image of the fit, taken from the product of `planck_likelihood.py`:\n",
    "\n",
    "![](mcmc/first_fit.png \"Prelimiary fit\")"
   ]
  },
  {
   "cell_type": "markdown",
   "id": "f388263a",
   "metadata": {},
   "source": [
    "## 2)"
   ]
  },
  {
   "cell_type": "markdown",
   "id": "d325c873",
   "metadata": {},
   "source": [
    "We'll now use Newton's method. In much the same way we did in problem set 4, the basic idea here is to start off with a guess of parameters and take the numerical derivatives with respect to these parameters to arrive at a better guess, and so on until convergence. Since we had a pretty good guess already in **1)**, we'll use that as our initial parameters. The code we use is shown below:"
   ]
  },
  {
   "cell_type": "code",
   "execution_count": null,
   "id": "7ffe4695",
   "metadata": {},
   "outputs": [],
   "source": [
    "import numpy as np\n",
    "import camb\n",
    "\n",
    "# define numerical derivative function\n",
    "\n",
    "def ndiff2(fun,x,dx_ord=0):\n",
    "    \"\"\"\n",
    "    Numerical derivative using both +/- dx and +/- 2*dx\n",
    "    \"\"\"\n",
    "    # this is a fine choice for our purposes:\n",
    "    # a) Newton's method will keep iterating until the solution is good and\n",
    "    # b) our function and its derivatives are of order unity\n",
    "    order = -3 + dx_ord\n",
    "    dx = 10**(order)\n",
    "    \n",
    "    # compute the function at the points of interest\n",
    "    yplus = fun(x + dx)\n",
    "    yminus = fun(x - dx)\n",
    "    yplus2 = fun(x + 2*dx)\n",
    "    yminus2 = fun(x - 2*dx)\n",
    "    \n",
    "    # compute the numerical derivative\n",
    "    fprime = (8 * yplus - yplus2 + yminus2 - 8 * yminus) / (12 * dx)\n",
    "    \n",
    "    return fprime\n",
    "\n",
    "# define funcion to extract spectrum from camb\n",
    "# this is more or less a black box\n",
    "def get_spectrum(H0=0,ombh2=0,omch2=0,tau=0,As=0,ns=0,params=np.asarray([0,0,0,0,0,0]),lmax=3000,take_params=False):\n",
    "    \"\"\"\n",
    "    Returns the spectrum for a given set of parameters H0, baryon density, dark matter density,\n",
    "    optical depth, As, ns\n",
    "    \"\"\"\n",
    "    if take_params:\n",
    "        # define params\n",
    "        H0=params[0]\n",
    "        ombh2=params[1]\n",
    "        omch2=params[2]\n",
    "        tau=params[3]\n",
    "        As=params[4]\n",
    "        ns=params[5]\n",
    "\n",
    "    # extract spectrum from camb\n",
    "    # this is more or less a black box\n",
    "    params=camb.CAMBparams()\n",
    "    params.set_cosmology(H0=H0,ombh2=ombh2,omch2=omch2,mnu=0.06,omk=0,tau=tau)\n",
    "    params.InitPower.set_params(As=As,ns=ns,r=0)\n",
    "    params.set_for_lmax(lmax,lens_potential_accuracy=0)\n",
    "    results=camb.get_results(params)\n",
    "    powers=results.get_cmb_power_spectra(params,CMB_unit='muK') # <- this is where we get the data\n",
    "    cmb=powers['total']\n",
    "    tt=cmb[:,0]\n",
    "\n",
    "    return tt[2:]\n",
    "\n",
    "# define gradient helper function\n",
    "# make sure to rescale the optimal dx by the parameter's order\n",
    "def params_grad(fun,params):\n",
    "    \"\"\"\n",
    "    Returns the numerical derivative at points `params` in parameter space\n",
    "    \"\"\"\n",
    "    H0, ombh2, omch2, tau, As, ns = params\n",
    "    \n",
    "    # derivative w.r.t H0 at p\n",
    "    fun_H00 = lambda H00: fun(H00,ombh2,omch2,tau,As,ns)\n",
    "    grad_H0 = ndiff2(fun_H00,H0,dx_ord=+1)\n",
    "    \n",
    "    # derivative w.r.t ombh2 at p\n",
    "    fun_ombh22 = lambda ombh22: fun(H0,ombh22,omch2,tau,As,ns)\n",
    "    grad_ombh2 = ndiff2(fun_ombh22,ombh2,dx_ord=-2)\n",
    "\n",
    "    # derivative w.r.t omch2 at p\n",
    "    fun_omch22 = lambda omch22: fun(H0,ombh2,omch22,tau,As,ns)\n",
    "    grad_omch2 = ndiff2(fun_omch22,omch2,dx_ord=-1)\n",
    "\n",
    "    # derivative w.r.t tau at p\n",
    "    fun_tauu = lambda tauu: fun(H0,ombh2,omch2,tauu,As,ns)\n",
    "    grad_tau = ndiff2(fun_tauu,tau,dx_ord=-2)\n",
    "\n",
    "    # derivative w.r.t As at p \n",
    "    fun_Ass = lambda Ass: fun(H0,ombh2,omch2,tau,Ass,ns) # sorry for the profanity\n",
    "    grad_As = ndiff2(fun_Ass,As,dx_ord=-9)\n",
    "\n",
    "    # derivative w.r.t ns at p\n",
    "    fun_nss = lambda nss: fun(H0,ombh2,omch2,tau,As,nss)\n",
    "    grad_ns = ndiff2(fun_nss,ns,dx_ord=0)\n",
    "\n",
    "    # transpose to make it match with calc_lorentz\n",
    "    return np.array([grad_H0, grad_ombh2, grad_omch2, grad_tau, grad_As, grad_ns]).T \n",
    "\n",
    "    # return np.array([grad_H0, grad_ombh2, grad_omch2, ]).T\n",
    "\n",
    "# define newtons method iterator\n",
    "def newtons_method(p0,d,num,print_params=False):\n",
    "    \"\"\"\n",
    "    Numerical derivative version of `newtons_method`\n",
    "    Runs Newton's method for initial parameter guess p0\n",
    "    t and d are the time and data, resp.\n",
    "    \"\"\"\n",
    "    # starting parameters is p0\n",
    "    p = p0.copy()\n",
    "\n",
    "    for i in range(num):\n",
    "        # calculate derivatives and function\n",
    "        pred = get_spectrum(params=p,take_params=True)\n",
    "        pred = pred[:len(d)] # make both the same size (we don't want to extrapolate)\n",
    "        grad = params_grad(fun=get_spectrum,params=p)\n",
    "        grad = grad[:len(d)]\n",
    "\n",
    "        # delta is difference between data and prediction\n",
    "        r = d - pred\n",
    "        err = (r**2).sum()\n",
    "        r = r.T\n",
    "        \n",
    "        lhs=grad.T@grad\n",
    "        rhs=grad.T@r\n",
    "        dp=np.linalg.pinv(lhs)@(rhs)\n",
    "        for jj in range(p.size):\n",
    "            p[jj]=p[jj]+dp[jj]\n",
    "                        \n",
    "        if print_params:\n",
    "            print(\"The parameters are:\",p)\n",
    "            print(\"The step is:\",dp)\n",
    "    \n",
    "    return p, dp\n",
    "\n",
    "# run the \"main\"\n",
    "if __name__ == '__main__':\n",
    "    # extract data from .txt files\n",
    "    planck = np.loadtxt('COM_PowerSpect_CMB-TT-full_R3.01.txt',skiprows=1)\n",
    "    ell = planck[:,0]\n",
    "    spec = planck[:,1]\n",
    "    errs = (planck[:,2] + planck[:,3]) / 2\n",
    "    \n",
    "    # initial guess and no. of iterations\n",
    "    p0 = np.asarray([69,0.022,0.12,0.06,2.1e-9,0.95])\n",
    "    num_iter = 5\n",
    "    \n",
    "    # run the iterator\n",
    "    params_newton, step = newtons_method(p0=p0,d=spec,num=num_iter,print_params=True)\n",
    "    \n",
    "    # estimate the uncertainties\n",
    "    pred = get_spectrum(params=params_newton,take_params=True)\n",
    "    pred = pred[:len(spec)]\n",
    "    Ninv = np.linalg.inv(np.diag(errs))\n",
    "    \n",
    "    # parameter errors\n",
    "    grad = params_grad(fun=get_spectrum,params=params_newton) # use differential gradient\n",
    "    grad = grad[:len(spec)]\n",
    "    lhs = grad.T@Ninv@grad\n",
    "    par_errs = np.sqrt(np.diag(np.linalg.inv(lhs)))\n",
    "    print(\"The errors are {}\".format(par_errs))\n",
    "    \n",
    "    np.savetxt(\"planck_fit_params.txt\", np.array([params_newton, par_errs]).T)"
   ]
  },
  {
   "cell_type": "markdown",
   "id": "bfe39b7c",
   "metadata": {},
   "source": [
    "When run in the `camb` environment, it returns, after 5 iterations:\n",
    "```\n",
    "The parameters are: [6.90000000e+01 2.20000000e-02 1.20000000e-01 6.00000000e-02\n",
    " 2.11779228e-09 9.50000000e-01]\n",
    "The step is: [-5.21713904e-23  2.90831665e-19 -1.50903574e-19 -7.43590788e-20\n",
    "  1.77922838e-11 -1.97538604e-20]\n",
    "The parameters are: [6.90000000e+01 2.20000000e-02 1.20000000e-01 6.00000000e-02\n",
    " 2.11779231e-09 9.50000000e-01]\n",
    "The step is: [-9.20879475e-29  5.13388256e-25 -2.66392826e-25 -1.31262655e-25\n",
    "  3.11437060e-17 -3.48715248e-26]\n",
    "The parameters are: [6.90000000e+01 2.20000000e-02 1.20000000e-01 6.00000000e-02\n",
    " 2.11779231e-09 9.50000000e-01]\n",
    "The step is: [ 9.08377570e-34 -5.06418471e-30  2.62776264e-30  1.29480626e-30\n",
    " -3.07208971e-22  3.43981073e-31]\n",
    "The parameters are: [6.90000000e+01 2.20000000e-02 1.20000000e-01 6.00000000e-02\n",
    " 2.11779231e-09 9.50000000e-01]\n",
    "The step is: [ 1.11316243e-34 -6.20585571e-31  3.22016610e-31  1.58670771e-31\n",
    " -3.76466237e-23  4.21528250e-32]\n",
    "The parameters are: [6.90000000e+01 2.20000000e-02 1.20000000e-01 6.00000000e-02\n",
    " 2.11779231e-09 9.50000000e-01]\n",
    "The step is: [-1.20182285e-35  6.70013562e-32 -3.47664374e-32 -1.71308474e-32\n",
    "  4.06450769e-24 -4.55101852e-33]\n",
    "The errors are [1.16828605e-01 2.20474064e-05 2.54033954e-04 3.63097430e-03\n",
    " 1.46372787e-11 6.88626237e-04]\n",
    "```\n",
    "\n",
    "The best fit parameters and errors are therefore:\n"
   ]
  },
  {
   "cell_type": "code",
   "execution_count": 79,
   "id": "f3c745e3",
   "metadata": {},
   "outputs": [],
   "source": [
    "newton = np.loadtxt(\"mcmc/planck_fit_params.txt\")\n",
    "params_newton = newton[:,0]\n",
    "param_errs_newton = newton[:,1]"
   ]
  },
  {
   "cell_type": "code",
   "execution_count": 80,
   "id": "aaa39937",
   "metadata": {},
   "outputs": [
    {
     "name": "stdout",
     "output_type": "stream",
     "text": [
      "H0 = 69.0 +/- 0.11682860476516188\n",
      "Omegabh2 = 0.022 +/- 2.204740636442771e-05\n",
      "Omegach2 = 0.12 +/- 0.00025403395375825035\n",
      "tau = 0.06 +/- 0.003630974299487817\n",
      "As = 2.1177923149017066e-09 +/- 1.463727873635012e-11\n",
      "ns = 0.95 +/- 0.0006886262373866526\n"
     ]
    }
   ],
   "source": [
    "print(\"H0 = {} +/- {}\".format(params_newton[0],param_errs_newton[0]))\n",
    "print(\"Omegabh2 = {} +/- {}\".format(params_newton[1],param_errs_newton[1]))\n",
    "print(\"Omegach2 = {} +/- {}\".format(params_newton[2],param_errs_newton[2]))\n",
    "print(\"tau = {} +/- {}\".format(params_newton[3],param_errs_newton[3]))\n",
    "print(\"As = {} +/- {}\".format(params_newton[4],param_errs_newton[4]))\n",
    "print(\"ns = {} +/- {}\".format(params_newton[5],param_errs_newton[5]))"
   ]
  },
  {
   "cell_type": "markdown",
   "id": "fb4575cf",
   "metadata": {},
   "source": [
    "Note: I know that something isn't quite right here, since none of the parameters are really varying. I think this has to do with either a bug in the differentiator (which would be odd, since it worked for PS4) or due to me not accounting for errors on the data through the matrix `N` which I ommitted in the Newton's method algorithm (which still should not mean that the parameters don't at all change, however). I believe it is more likely the latter, since in this case one must treat the `camb` model as a black box of sorts, and it is therefore difficult to assess whether or not the model and its derivatives are accurate."
   ]
  },
  {
   "cell_type": "markdown",
   "id": "a779fdbf",
   "metadata": {},
   "source": [
    "## 3)"
   ]
  },
  {
   "cell_type": "markdown",
   "id": "309140e3",
   "metadata": {},
   "source": [
    "Let's try to get to the optimal parameters via an MCMC method. We know how to do this from the previous problem set, so let's just go ahead and implement it:"
   ]
  },
  {
   "cell_type": "code",
   "execution_count": null,
   "id": "514b20b4",
   "metadata": {},
   "outputs": [],
   "source": [
    "import numpy as np\n",
    "import camb\n",
    "import time\n",
    "\n",
    "# to get spectrum (model) from CAMB parameters \n",
    "def get_spectrum(H0=0,ombh2=0,omch2=0,tau=0,As=0,ns=0,params=np.asarray([0,0,0,0,0,0]),lmax=3000,take_params=False):\n",
    "    \"\"\"\n",
    "    Returns the spectrum for a given set of parameters H0, baryon density, dark matter density,\n",
    "    optical depth, As, ns\n",
    "    \"\"\"\n",
    "    if take_params:\n",
    "        # define params\n",
    "        H0=params[0]\n",
    "        ombh2=params[1]\n",
    "        omch2=params[2]\n",
    "        tau=params[3]\n",
    "        As=params[4]\n",
    "        ns=params[5]\n",
    "\n",
    "    # extract spectrum from camb\n",
    "    params=camb.CAMBparams()\n",
    "    params.set_cosmology(H0=H0,ombh2=ombh2,omch2=omch2,mnu=0.06,omk=0,tau=tau)\n",
    "    params.InitPower.set_params(As=As,ns=ns,r=0)\n",
    "    params.set_for_lmax(lmax,lens_potential_accuracy=0)\n",
    "    results=camb.get_results(params)\n",
    "    powers=results.get_cmb_power_spectra(params,CMB_unit='muK') # <- this is where we get the data\n",
    "    cmb=powers['total']\n",
    "    tt=cmb[:,0]\n",
    "\n",
    "    return tt[2:]\n",
    "\n",
    "# to reproduce the curvature matrix from the previous problem\n",
    "def ndiff2(fun,x,dx_ord=0):\n",
    "    \"\"\"\n",
    "    Numerical derivative using both +/- dx and +/- 2*dx\n",
    "    \"\"\"\n",
    "    # this is a fine choice for our purposes:\n",
    "    # a) Newton's method will keep iterating until the solution is good and\n",
    "    # b) our function and its derivatives are of order unity\n",
    "    order = -3 + dx_ord\n",
    "    dx = 10**(order)\n",
    "    \n",
    "    # compute the function at the points of interest\n",
    "    yplus = fun(x + dx)\n",
    "    yminus = fun(x - dx)\n",
    "    yplus2 = fun(x + 2*dx)\n",
    "    yminus2 = fun(x - 2*dx)\n",
    "    \n",
    "    # compute the numerical derivative\n",
    "    fprime = (8 * yplus - yplus2 + yminus2 - 8 * yminus) / (12 * dx)\n",
    "    \n",
    "    return fprime\n",
    "def params_grad(fun,params):\n",
    "    \"\"\"\n",
    "    Returns the numerical derivative at points `params` in parameter space\n",
    "    \"\"\"\n",
    "    H0, ombh2, omch2, tau, As, ns = params\n",
    "    \n",
    "    # derivative w.r.t H0 at p\n",
    "    fun_H00 = lambda H00: fun(H00,ombh2,omch2,tau,As,ns)\n",
    "    grad_H0 = ndiff2(fun_H00,H0,dx_ord=+1)\n",
    "    \n",
    "    # derivative w.r.t ombh2 at p\n",
    "    fun_ombh22 = lambda ombh22: fun(H0,ombh22,omch2,tau,As,ns)\n",
    "    grad_ombh2 = ndiff2(fun_ombh22,ombh2,dx_ord=-2)\n",
    "\n",
    "    # derivative w.r.t omch2 at p\n",
    "    fun_omch22 = lambda omch22: fun(H0,ombh2,omch22,tau,As,ns)\n",
    "    grad_omch2 = ndiff2(fun_omch22,omch2,dx_ord=-1)\n",
    "\n",
    "    # derivative w.r.t tau at p\n",
    "    fun_tauu = lambda tauu: fun(H0,ombh2,omch2,tauu,As,ns)\n",
    "    grad_tau = ndiff2(fun_tauu,tau,dx_ord=-2)\n",
    "\n",
    "    # derivative w.r.t As at p \n",
    "    fun_Ass = lambda Ass: fun(H0,ombh2,omch2,tau,Ass,ns) # sorry for the profanity\n",
    "    grad_As = ndiff2(fun_Ass,As,dx_ord=-9)\n",
    "\n",
    "    # derivative w.r.t ns at p\n",
    "    fun_nss = lambda nss: fun(H0,ombh2,omch2,tau,As,nss)\n",
    "    grad_ns = ndiff2(fun_nss,ns,dx_ord=0)\n",
    "\n",
    "    # transpose to make it match with calc_lorentz\n",
    "    return np.array([grad_H0, grad_ombh2, grad_omch2, grad_tau, grad_As, grad_ns]).T \n",
    "\n",
    "# computes chi squared\n",
    "def chisquared(d,pred,errs):\n",
    "    \"\"\"\n",
    "    Computes chi-squared given some data d and pred\n",
    "    In our case, errs is a constant and is always the same\n",
    "    \"\"\"\n",
    "    chi2 = np.sum((pred-d)**2/errs**2)\n",
    "    \n",
    "    return chi2\n",
    "\n",
    "# takes a random step in parameter space\n",
    "def random_step(cov):\n",
    "    \"\"\"\n",
    "    Random Gaussian step in each parameter\n",
    "    \"\"\"\n",
    "    scale = 0.9 # manually adjusted scale factor\n",
    "    \n",
    "    cov = cov/scale\n",
    "    \n",
    "    step = np.random.multivariate_normal(np.zeros(cov.shape[0]),cov)\n",
    "    \n",
    "    return step\n",
    "\n",
    "# performs a mcmc step  \n",
    "def mcmc_step(d,params,chisq,cov,errs):\n",
    "    \"\"\"\n",
    "    Single step in MCMC chain\n",
    "    Params is a vector \n",
    "    Param_errs is the covariance in the initial parameters in the \n",
    "    \"\"\"\n",
    "    # compute a set of new trial parameters \n",
    "    new_params = params + random_step(cov)\n",
    "    \n",
    "    # they predict the following data\n",
    "    new_pred = get_spectrum(params=new_params,take_params=True)[:len(d)]\n",
    "    \n",
    "    # this data has the following chi squared\n",
    "    new_chisq = chisquared(d,new_pred,errs)\n",
    "    \n",
    "    # if it improves the chi squared, always accept\n",
    "    # if not, accept it with a probability exp(-1/2* ((x^2)new - (x^2)old))\n",
    "    log_accept_prob = -1/2*(new_chisq - chisq)\n",
    "    \n",
    "    # make it a log to avoid computing exponentials\n",
    "    if np.log(np.random.rand(1)) < log_accept_prob:\n",
    "        return new_params, new_chisq\n",
    "    else:\n",
    "        return params, chisq\n",
    "\n",
    "# main mcmc function\n",
    "def mcmc_main(d,initial_params,cov,errs,nstep=20000):\n",
    "    \"\"\"\n",
    "    Main function for the MCMC chain\n",
    "    \"\"\"\n",
    "    # initialize chain\n",
    "    n = initial_params.size\n",
    "    chain_params = np.zeros((nstep,n),dtype=float)\n",
    "    chain_params[0,:] = initial_params\n",
    "    \n",
    "    # compute initial chi squared\n",
    "    pred = get_spectrum(params=initial_params,take_params=True)[:len(d)]\n",
    "    initial_chisq = chisquared(d,pred,errs)\n",
    "    chain_chisq = np.zeros(nstep,dtype=float)\n",
    "    chain_chisq[0] = initial_chisq\n",
    "            \n",
    "    # take `nstep` number of steps\n",
    "    for i in range(1,nstep):\n",
    "        # get the old parameters\n",
    "        params = chain_params[i-1,:]\n",
    "        chisq = chain_chisq[i-1]\n",
    "        # compute the putatively new ones\n",
    "        params_, chisq_ = mcmc_step(d,params,chisq,cov,errs)\n",
    "        # put them into the chain\n",
    "        chain_params[i,:] = params_\n",
    "        chain_chisq[i] = chisq_\n",
    "        \n",
    "    return chain_params, chain_chisq\n",
    "\n",
    "# code to run on terminal in camb environment\n",
    "if __name__ == '__main__':\n",
    "    # import data\n",
    "    planck = np.loadtxt('COM_PowerSpect_CMB-TT-full_R3.01.txt',skiprows=1)\n",
    "    ell = planck[:,0]\n",
    "    spec = planck[:,1]\n",
    "    errs = (planck[:,2] + planck[:,3]) / 2\n",
    "\n",
    "    # initial guess\n",
    "    p0 = np.asarray([69,0.022,0.12,0.054,2.1e-9,0.95])\n",
    "\n",
    "    # get model spectrum\n",
    "    pred = get_spectrum(params=p0,take_params=True)\n",
    "    pred = pred[:len(spec)]\n",
    "    params_newton = np.loadtxt('planck_fit_params.txt')[:,0] # for curvature matrix of previous problem\n",
    "    grad = params_grad(fun=get_spectrum,params=params_newton)\n",
    "    grad = grad[:len(spec)]\n",
    "\n",
    "    # covariance matrix\n",
    "    Ninv = np.linalg.inv(np.diag(errs**2))\n",
    "    lhs = grad.T@Ninv@grad\n",
    "    cov = np.linalg.inv(lhs)\n",
    "\n",
    "    # run the mcmc simulation\n",
    "    nsteps = 10000 # takes O(1) second per step, so this should take ~3 hours\n",
    "    t1 = time.time()\n",
    "    chain_params, chain_chisq = mcmc_main(d=spec,initial_params=p0,cov=cov,errs=errs,nstep=nsteps)\n",
    "    t2 = time.time()\n",
    "\n",
    "    # save the data\n",
    "    data = np.zeros((nsteps,7))\n",
    "    data[:,0] = chain_chisq\n",
    "    data[:,1:] = chain_params\n",
    "    np.savetxt(\"planck_chain.txt\", data)\n",
    "\n",
    "    # report time\n",
    "    print(\"Time it took to do {} MCMC steps:{}\".format(nsteps,t2-t1))"
   ]
  },
  {
   "cell_type": "markdown",
   "id": "47438284",
   "metadata": {},
   "source": [
    "The resulting chains are saved in the files:"
   ]
  },
  {
   "cell_type": "code",
   "execution_count": 2,
   "id": "6cbc0651",
   "metadata": {},
   "outputs": [],
   "source": [
    "planck_mcmc_data = np.loadtxt(\"mcmc/planck_chain.txt\")\n",
    "planck_chain = planck_mcmc_data[:,1:]\n",
    "planck_chisq = planck_mcmc_data[:,0]"
   ]
  },
  {
   "cell_type": "markdown",
   "id": "af18d225",
   "metadata": {},
   "source": [
    "Which, at first glance, yield the putative convergences:"
   ]
  },
  {
   "cell_type": "code",
   "execution_count": 246,
   "id": "a2ab45c8",
   "metadata": {},
   "outputs": [
    {
     "data": {
      "image/png": "[encoded data removed]",
      "text/plain": [
       "<Figure size 432x288 with 1 Axes>"
      ]
     },
     "metadata": {
      "needs_background": "light"
     },
     "output_type": "display_data"
    },
    {
     "data": {
      "image/png": "[encoded data removed]",
      "text/plain": [
       "<Figure size 432x288 with 1 Axes>"
      ]
     },
     "metadata": {
      "needs_background": "light"
     },
     "output_type": "display_data"
    }
   ],
   "source": [
    "x = np.arange(10000)\n",
    "\n",
    "plt.figure()\n",
    "plt.title(r\"MCMC chain for $H_0$\")\n",
    "plt.ylabel(\"$H_0$\")\n",
    "plt.xlabel(\"step\")\n",
    "plt.plot(x,planck_chain[:,0])\n",
    "plt.show()\n",
    "\n",
    "plt.figure()\n",
    "plt.title(r\"MCMC chain for $\\chi^2$\")\n",
    "plt.ylabel(\"$\\chi^2$\")\n",
    "plt.xlabel(\"step\")\n",
    "plt.plot(x,planck_chisq)\n",
    "plt.axhline(2501,c='k',ls='--')\n",
    "plt.show()"
   ]
  },
  {
   "cell_type": "markdown",
   "id": "b41629f3",
   "metadata": {},
   "source": [
    "So, did the values converge? Hard to say. Judging by the upper plot of $H_0$ as a function of MCMC steps, I would say that **no, the MCMC algorithm has not converged**. Retracing back our steps, I think this is due to a bug in my original Newton's method iterator (which is odd, since this code worked fine for all other problem sets and I still cannot seem to find the bug after many attempts and building a minimal model to test it -- however, since the `get_spectrum` function is more or less a black box, testing our `grad_params` function on it is not very enlightening). This in turn yields a faulty covariance matrix which trickles down into our MCMC algorithm, providing dubious new test parameters. I have done my best to attempt to remedy this by tweaking the step with an overall scale factor of order unity (as was done in problem set 4) and varying the way in which steps are taken (e.g. trying out a uniform distribution) but the results are qualitatively the same. The trial and error method proved at least somewhat effective, as it yielded a $<\\chi^2> \\approx n = 2501$, but this method is time-intensive, since every trial takes an order of six hours. So, **I do not think my chains are converged**, and I can trace back the cause to the erroneous covariance matrix obtained via Newton's method stemming from a bug (which I have not discovered due to the black box nature of `get_spectrum` not liking `grad_params` though not without much toil) when `grad_params` acts on `get_spectrum`. \n",
    "\n",
    "Moving on as though everything had worked, what are the values and their errors?"
   ]
  },
  {
   "cell_type": "code",
   "execution_count": 244,
   "id": "f6d261a5",
   "metadata": {},
   "outputs": [
    {
     "name": "stdout",
     "output_type": "stream",
     "text": [
      "H0 = 68.80375944904863 +/- 1.0872354015286563\n",
      "Omegabh2 = 0.02221693293836467 +/- 0.00020751209881565068\n",
      "Omegach2 = 0.11650370781229581 +/- 0.002436431723053146\n",
      "tau = 0.09546878602718682 +/- 0.02604136802420618\n",
      "As = 2.264039671665958e-09 +/- 1.0923033350069017e-10\n",
      "ns = 0.9745173040304714 +/- 0.005852441622004641\n"
     ]
    }
   ],
   "source": [
    "# set a burn-in time\n",
    "burnin = 100 # more or less\n",
    "\n",
    "# these are the best parameters (again, assuming convergence)\n",
    "mcmc_params = planck_chain[-1,:]\n",
    "\n",
    "# the error is simply the standard deviation of the sample\n",
    "sigma_mcmc_params = np.std(planck_chain[burnin:,:],axis=0)\n",
    "\n",
    "print(\"H0 = {} +/- {}\".format(mcmc_params[0],sigma_mcmc_params[0]))\n",
    "print(\"Omegabh2 = {} +/- {}\".format(mcmc_params[1],sigma_mcmc_params[1]))\n",
    "print(\"Omegach2 = {} +/- {}\".format(mcmc_params[2],sigma_mcmc_params[2]))\n",
    "print(\"tau = {} +/- {}\".format(mcmc_params[3],sigma_mcmc_params[3]))\n",
    "print(\"As = {} +/- {}\".format(mcmc_params[4],sigma_mcmc_params[4]))\n",
    "print(\"ns = {} +/- {}\".format(mcmc_params[5],sigma_mcmc_params[5]))"
   ]
  },
  {
   "cell_type": "markdown",
   "id": "2f10921a",
   "metadata": {},
   "source": [
    "Again, I'm fairly certain this isn't correct. Indeed, the error in some values ($H_0$ and $\\tau$) is on the same order as the first significant figure. Also, the value of $\\tau$ is significantly off from our initial guess and the value presented in question **4)**. One redeeming feature is that $\\Omega_{b,c} h^2$ seem to have a reasonably good (samll) error with respect to their value. Looking at their MCMC chains, we can see that their convergence is once again not complete:"
   ]
  },
  {
   "cell_type": "code",
   "execution_count": 245,
   "id": "6a6d9ac4",
   "metadata": {},
   "outputs": [
    {
     "data": {
      "image/png": "[encoded data removed]",
      "text/plain": [
       "<Figure size 432x288 with 2 Axes>"
      ]
     },
     "metadata": {
      "needs_background": "light"
     },
     "output_type": "display_data"
    }
   ],
   "source": [
    "fig,ax=plt.subplots(nrows=2)\n",
    "plt.suptitle(r\"MCMC chain for $\\Omega$'s'\")\n",
    "ax[0].set_ylabel(\"$\\Omega_b h^2$\")\n",
    "ax[1].set_ylabel(\"$\\Omega_c h^2$\")\n",
    "ax[1].set_xlabel(\"step\")\n",
    "ax[0].plot(x,planck_chain[:,1])\n",
    "ax[1].plot(x,planck_chain[:,2])\n",
    "plt.show()\n"
   ]
  },
  {
   "cell_type": "markdown",
   "id": "2e698ea1",
   "metadata": {},
   "source": [
    "In the interest of completing this assignment, however, we move on yet. The value of $h$ is extracted from $H_0$ as such:"
   ]
  },
  {
   "cell_type": "code",
   "execution_count": 162,
   "id": "db617881",
   "metadata": {},
   "outputs": [],
   "source": [
    "h=planck_chain[-1,0]/100"
   ]
  },
  {
   "cell_type": "markdown",
   "id": "74e71063",
   "metadata": {},
   "source": [
    "We may now solve for $\\Omega_{\\Lambda}$ using $1 =\\Omega_{\\Lambda}+\\Omega_{b}+\\Omega_{c} $. We use a mini monte-carlo (not mcmc) method to propagate errors (i.e. create a bunch of Gaussian distributed samples centred at the mean with deviation equal to the error, and get the final error by computing the standard deviation of the total)."
   ]
  },
  {
   "cell_type": "code",
   "execution_count": 189,
   "id": "2e8a8762",
   "metadata": {},
   "outputs": [
    {
     "name": "stdout",
     "output_type": "stream",
     "text": [
      "Omega_Lambda is: 0.906105480381642 +/- 0.003079592729882093\n"
     ]
    }
   ],
   "source": [
    "# set up the means and standard deviations\n",
    "lots = 10000\n",
    "H0 = mcmc_params[0]\n",
    "H0_sigma = sigma_mcmc_params[0]\n",
    "omega_bh = mcmc_params[1]\n",
    "omega_bh_sigma = sigma_mcmc_params[1]\n",
    "omega_ch = mcmc_params[2]\n",
    "omega_ch_sigma = sigma_mcmc_params[2]\n",
    "\n",
    "# set up the normally distributed arrays\n",
    "H0s = np.random.normal(loc=H0, scale=H0_sigma, size=lots)\n",
    "omega_bhs = np.random.normal(loc=omega_bh, scale=omega_bh_sigma, size=lots)\n",
    "omega_chs = np.random.normal(loc=omega_ch, scale=omega_ch_sigma, size=lots)\n",
    "\n",
    "# calculate everything\n",
    "hs = H0s / 100\n",
    "omega_lambdas = 1 - omega_bhs / hs**2 - omega_bhs / hs**2\n",
    "omega_lambda = np.mean(omega_lambdas)\n",
    "omega_lambda_sigma = np.std(omega_lambdas)\n",
    "\n",
    "# print it\n",
    "print(\"Omega_Lambda is: {} +/- {}\".format(omega_lambda,omega_lambda_sigma))"
   ]
  },
  {
   "cell_type": "markdown",
   "id": "291d6c66",
   "metadata": {},
   "source": [
    "So we have obtained $\\Omega_{\\Lambda} = 0.906(3)$."
   ]
  },
  {
   "cell_type": "markdown",
   "id": "c26c371b",
   "metadata": {},
   "source": [
    "## 4)"
   ]
  },
  {
   "cell_type": "markdown",
   "id": "6f6f12eb",
   "metadata": {},
   "source": [
    "We will now repeat the MCMC procedure of the last problem, however with the additional constraint that $\\tau = 0.054 \\pm 0.0074$. We include this constraint simply by adding a term in our $\\chi^2$ of the form `chisq_tau = ((trial_tau-tau_prior)/(sigma_tau_prior))**2` where `tau_prior +/- sigma_tau_prior` = $0.054 \\pm 0.0074$. This can be thought of as an additional model constraint (we have an updated prior, if you will). So, let's run a new chain with this constraint:"
   ]
  },
  {
   "cell_type": "code",
   "execution_count": null,
   "id": "59b92a6a",
   "metadata": {},
   "outputs": [],
   "source": [
    "# this is the only part of the code that changes\n",
    "\n",
    "# performs a mcmc step  \n",
    "def mcmc_step(d,params,chisq,cov,errs):\n",
    "    \"\"\"\n",
    "    Single step in MCMC chain\n",
    "    Params is a vector \n",
    "    Param_errs is the covariance in the initial parameters in the \n",
    "    \"\"\"\n",
    "    # set constrained parameters\n",
    "    tau_prior = 0.0540\n",
    "    sigma_tau_prior = 0.0074\n",
    "\n",
    "    # compute a set of new trial parameters \n",
    "    new_params = params + random_step(cov)\n",
    "    \n",
    "    # they predict the following data\n",
    "    new_pred = get_spectrum(params=new_params,take_params=True)[:len(d)]\n",
    "    \n",
    "    # this data has the following chi squared\n",
    "    # include the constraint that tau = tau_prior +/- sigma_tau_prior\n",
    "    tau_chisq = ((new_params[3] - tau_prior)/sigma_tau_prior)**2\n",
    "    new_chisq = chisquared(d,new_pred,errs) + tau_chisq\n",
    "    \n",
    "    # if it improves the chi squared, always accept\n",
    "    # if not, accept it with a probability exp(-1/2* ((x^2)new - (x^2)old))\n",
    "    log_accept_prob = -1/2*(new_chisq - chisq)\n",
    "    \n",
    "    # make it a log to avoid computing exponentials\n",
    "    if np.log(np.random.rand(1)) < log_accept_prob:\n",
    "        return new_params, new_chisq\n",
    "    else:\n",
    "        return params, chisq"
   ]
  },
  {
   "cell_type": "code",
   "execution_count": 69,
   "id": "288b5b77",
   "metadata": {},
   "outputs": [],
   "source": [
    "data_tauprior = np.loadtxt(\"mcmc/planck_chain_tauprior.txt\")\n",
    "planck_chain_tau = data_tauprior[:,1:]\n",
    "planck_chisq_tau = data_tauprior[:,0]\n",
    "\n",
    "# the params are the last site\n",
    "mcmc_params_tau = planck_chain_tau[-1,:]\n",
    "\n",
    "# the errors are the standard deviation of the chain\n",
    "sigma_mcmc_params_tau = np.std(planck_chain_tau[burnin:,:], axis=0)"
   ]
  },
  {
   "cell_type": "markdown",
   "id": "b8fa76d6",
   "metadata": {},
   "source": [
    "Let's have a quick look at convergence:"
   ]
  },
  {
   "cell_type": "code",
   "execution_count": 240,
   "id": "854ffed8",
   "metadata": {},
   "outputs": [
    {
     "data": {
      "image/png": "[encoded data removed]",
      "text/plain": [
       "<Figure size 432x288 with 1 Axes>"
      ]
     },
     "metadata": {
      "needs_background": "light"
     },
     "output_type": "display_data"
    },
    {
     "data": {
      "image/png": "[encoded data removed]",
      "text/plain": [
       "<Figure size 432x288 with 1 Axes>"
      ]
     },
     "metadata": {
      "needs_background": "light"
     },
     "output_type": "display_data"
    }
   ],
   "source": [
    "x = np.arange(10000)\n",
    "\n",
    "plt.figure()\n",
    "plt.title(r\"MCMC chain for $H_0$\")\n",
    "plt.plot(x,planck_chain_tau[:,0])\n",
    "plt.ylabel(\"$H_0$\")\n",
    "plt.xlabel(\"step\")\n",
    "plt.show()\n",
    "\n",
    "plt.figure()\n",
    "plt.title(r\"MCMC chain for $\\chi^2$\")\n",
    "plt.ylabel(\"$\\chi^2$\")\n",
    "plt.xlabel(\"step\")\n",
    "plt.plot(x,planck_chisq_tau)\n",
    "plt.axhline(2501,c='k',ls='--')\n",
    "plt.show()"
   ]
  },
  {
   "cell_type": "markdown",
   "id": "bfb5d001",
   "metadata": {},
   "source": [
    "The same problems as before are inherited here as well. These are the parameters we obtain:"
   ]
  },
  {
   "cell_type": "code",
   "execution_count": 237,
   "id": "82aefba1",
   "metadata": {},
   "outputs": [
    {
     "name": "stdout",
     "output_type": "stream",
     "text": [
      "H0 = 67.61733091750979 +/- 1.0394051189437972\n",
      "Omegabh2 = 0.02229257109929826 +/- 0.00021165372624995315\n",
      "Omegach2 = 0.11934489549145502 +/- 0.002360128663603689\n",
      "tau = 0.05415361478650203 +/- 0.007222597642066387\n",
      "As = 2.0933171769615404e-09 +/- 3.148098100992451e-11\n",
      "ns = 0.9688233530956443 +/- 0.0060204364942864795\n"
     ]
    }
   ],
   "source": [
    "print(\"H0 = {} +/- {}\".format(mcmc_params_tau[0],sigma_mcmc_params_tau[0]))\n",
    "print(\"Omegabh2 = {} +/- {}\".format(mcmc_params_tau[1],sigma_mcmc_params_tau[1]))\n",
    "print(\"Omegach2 = {} +/- {}\".format(mcmc_params_tau[2],sigma_mcmc_params_tau[2]))\n",
    "print(\"tau = {} +/- {}\".format(mcmc_params_tau[3],sigma_mcmc_params_tau[3]))\n",
    "print(\"As = {} +/- {}\".format(mcmc_params_tau[4],sigma_mcmc_params_tau[4]))\n",
    "print(\"ns = {} +/- {}\".format(mcmc_params_tau[5],sigma_mcmc_params_tau[5]))"
   ]
  },
  {
   "cell_type": "markdown",
   "id": "585741e0",
   "metadata": {},
   "source": [
    "Next we want to do importance sampling on the chain of the last problem with the additional $\\delta\\chi^2$ term (stemming from the contraint of $\\tau$) acting as the effective weight and compare our results to those obtained by running a whole new chain. The code is as follows:"
   ]
  },
  {
   "cell_type": "code",
   "execution_count": null,
   "id": "81ae2d80",
   "metadata": {},
   "outputs": [],
   "source": [
    "# import data\n",
    "planck = np.loadtxt('COM_PowerSpect_CMB-TT-full_R3.01.txt',skiprows=1)\n",
    "ell = planck[:,0]\n",
    "spec = planck[:,1]\n",
    "errs = (planck[:,2] + planck[:,3]) / 2\n",
    "\n",
    "# import chains\n",
    "planck_chain = np.loadtxt(\"planck_chain.txt\")\n",
    "planck_chisq = np.loadtxt(\"planck_chisq.txt\")\n",
    "\n",
    "# define the new parameter value\n",
    "tau_prior = 0.0540\n",
    "sigma_tau_prior = 0.0074\n",
    "\n",
    "# compute the new chi2 (effective weight)\n",
    "# i.e. just the difference in our old taus and the new constrained one\n",
    "tau_chain = planck_chain[:,3]\n",
    "planck_chisq_new =  ((tau_prior-tau_chain)/sigma_tau_prior)**2\n",
    "\n",
    "# with this new chisquared, compute the new phase-space density L'/L\n",
    "density = np.exp(-0.5 * (planck_chisq_new))\n",
    "\n",
    "# compute the new parameters as weighted sums\n",
    "density_all = np.tile(density,(planck_chain.shape[1],1)).T / np.sum(density)\n",
    "params_weighted = np.sum(density_all * planck_chain, axis=0)\n",
    "\n",
    "# save the data\n",
    "np.savetxt(\"planck_chisq_new.txt\", planck_chisq_new)\n",
    "np.savetxt(\"planck_density.txt\", density)\n",
    "np.savetxt(\"planck_params_weighted.txt\", params_weighted)"
   ]
  },
  {
   "cell_type": "markdown",
   "id": "32aa1a8f",
   "metadata": {},
   "source": [
    "Running this, we obtain the new values for the parameters. We should also re-calculate the errors by taking the deviation of our new weighted chains."
   ]
  },
  {
   "cell_type": "code",
   "execution_count": 233,
   "id": "152775c4",
   "metadata": {},
   "outputs": [],
   "source": [
    "planck_chain_weighted = np.loadtxt(\"mcmc/planck_chain_weighted.txt\")\n",
    "sigma_mcmc_params_sampling = np.std(planck_chain_weighted[burnin:,:], axis=0)"
   ]
  },
  {
   "cell_type": "code",
   "execution_count": 234,
   "id": "d4ad9c3d",
   "metadata": {},
   "outputs": [
    {
     "name": "stdout",
     "output_type": "stream",
     "text": [
      "H0 = 67.74424541340402 +/- 0.013309517671281714\n",
      "Omegabh2 = 0.02229725956920926 +/- 4.382703584355666e-06\n",
      "Omegach2 = 0.11885896308837077 +/- 2.3329578410434945e-05\n",
      "tau = 0.05564797628049732 +/- 1.0733976064574594e-05\n",
      "As = 2.097294119685432e-09 +/- 4.1077369345718416e-13\n",
      "ns = 0.970646350573181 +/- 0.00019068989770073766\n"
     ]
    }
   ],
   "source": [
    "mcmc_params_sampling = np.loadtxt(\"mcmc/planck_params_weighted.txt\")\n",
    "\n",
    "print(\"H0 = {} +/- {}\".format(mcmc_params_sampling[0],sigma_mcmc_params_sampling[0]))\n",
    "print(\"Omegabh2 = {} +/- {}\".format(mcmc_params_sampling[1],sigma_mcmc_params_sampling[1]))\n",
    "print(\"Omegach2 = {} +/- {}\".format(mcmc_params_sampling[2],sigma_mcmc_params_sampling[2]))\n",
    "print(\"tau = {} +/- {}\".format(mcmc_params_sampling[3],sigma_mcmc_params_sampling[3]))\n",
    "print(\"As = {} +/- {}\".format(mcmc_params_sampling[4],sigma_mcmc_params_sampling[4]))\n",
    "print(\"ns = {} +/- {}\".format(mcmc_params_sampling[5],sigma_mcmc_params_sampling[5]))"
   ]
  },
  {
   "cell_type": "markdown",
   "id": "88b21109",
   "metadata": {},
   "source": [
    "The values of $H_0$, $\\Omega_b h^2$, $\\Omega_c h^2$, and $A_s$ are consistent with running the entire chain again with a modified $\\chi^2$ to account for the $\\tau$ constraint. The values of $\\tau$ and $n_s$ are not, however."
   ]
  },
  {
   "cell_type": "code",
   "execution_count": null,
   "id": "38b8d008",
   "metadata": {},
   "outputs": [],
   "source": []
  },
  {
   "cell_type": "code",
   "execution_count": null,
   "id": "fa372e33",
   "metadata": {},
   "outputs": [],
   "source": []
  }
 ],
 "metadata": {
  "kernelspec": {
   "display_name": "Python 3 (ipykernel)",
   "language": "python",
   "name": "python3"
  },
  "language_info": {
   "codemirror_mode": {
    "name": "ipython",
    "version": 3
   },
   "file_extension": ".py",
   "mimetype": "text/x-python",
   "name": "python",
   "nbconvert_exporter": "python",
   "pygments_lexer": "ipython3",
   "version": "3.9.12"
  },
  "varInspector": {
   "cols": {
    "lenName": 16,
    "lenType": 16,
    "lenVar": 40
   },
   "kernels_config": {
    "python": {
     "delete_cmd_postfix": "",
     "delete_cmd_prefix": "del ",
     "library": "var_list.py",
     "varRefreshCmd": "print(var_dic_list())"
    },
    "r": {
     "delete_cmd_postfix": ") ",
     "delete_cmd_prefix": "rm(",
     "library": "var_list.r",
     "varRefreshCmd": "cat(var_dic_list()) "
    }
   },
   "types_to_exclude": [
    "module",
    "function",
    "builtin_function_or_method",
    "instance",
    "_Feature"
   ],
   "window_display": false
  }
 },
 "nbformat": 4,
 "nbformat_minor": 5
}
