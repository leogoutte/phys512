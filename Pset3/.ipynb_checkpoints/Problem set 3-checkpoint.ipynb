{
 "cells": [
  {
   "cell_type": "markdown",
   "id": "049c943a",
   "metadata": {},
   "source": [
    "# Computational physics problem set 3"
   ]
  },
  {
   "cell_type": "code",
   "execution_count": 396,
   "id": "67a67acb",
   "metadata": {},
   "outputs": [],
   "source": [
    "# import all the fun stuff\n",
    "import numpy as np\n",
    "import matplotlib.pyplot as plt\n",
    "from scipy.integrate import solve_ivp"
   ]
  },
  {
   "cell_type": "markdown",
   "id": "8de7d438",
   "metadata": {
    "heading_collapsed": true
   },
   "source": [
    "## Problem 1"
   ]
  },
  {
   "cell_type": "markdown",
   "id": "c34c528d",
   "metadata": {
    "hidden": true
   },
   "source": [
    "We'll start by building the standard Runge-Kutta ODE solver that computes the new $y$ value after a given step $h$:"
   ]
  },
  {
   "cell_type": "code",
   "execution_count": 142,
   "id": "cc86e781",
   "metadata": {
    "hidden": true
   },
   "outputs": [],
   "source": [
    "def rk4_step(fun,x,y,h):\n",
    "    \"\"\"\n",
    "    RK4 prototype that takes in one step\n",
    "    \"\"\"\n",
    "    # evaluate rk4 step\n",
    "    k1 = fun(x,y) * h\n",
    "    k2 = h * fun(x+h/2,y+k1/2)\n",
    "    k3 = h * fun(x+h/2,y+k2/2)\n",
    "    k4 = h * fun(x+h,y+k3)\n",
    "    dy = (k1 + 2*k2 + 2*k3 + k4)/6\n",
    "    \n",
    "    return y+dy"
   ]
  },
  {
   "cell_type": "code",
   "execution_count": 143,
   "id": "b14bdf0f",
   "metadata": {
    "hidden": true
   },
   "outputs": [],
   "source": [
    "def rk4_integrate(fun,x0,xf,y0,num,return_count=False):\n",
    "    \"\"\"\n",
    "    Solve an ODE `fun` with initial conditions x0, y0 and `num` steps to xf.\n",
    "    Returns x and y arrays.\n",
    "    \"\"\"\n",
    "    # set count to 0\n",
    "    count = 0\n",
    "    \n",
    "    # dress an array of x-values\n",
    "    x = np.linspace(x0, xf, num+1) # add 1 because of endpoint\n",
    "    \n",
    "    # from those, compute the step size\n",
    "    h = np.median(np.diff(x))\n",
    "    \n",
    "    # make an array of y values to fill\n",
    "    y = np.zeros(num+1)\n",
    "    \n",
    "    # define the initial value\n",
    "    y[0] = y0\n",
    "    \n",
    "    # take a step of size h and compute the new y value usig rk4\n",
    "    for i in range(num): # there are a total of num_steps steps\n",
    "        y[i+1] = rk4_step(fun1,x[i],y[i],h)\n",
    "        count += 4\n",
    "        \n",
    "    if return_count:\n",
    "        return x, y, count\n",
    "        \n",
    "    else:\n",
    "        return x, y"
   ]
  },
  {
   "cell_type": "code",
   "execution_count": 144,
   "id": "3c65b34f",
   "metadata": {
    "hidden": true
   },
   "outputs": [],
   "source": [
    "def fun1(x,y):\n",
    "    \"\"\"\n",
    "    ODE for problem 1\n",
    "    \"\"\"\n",
    "    dydx = y / (1 + x**2)\n",
    "    return dydx\n",
    "\n",
    "def fun1_analytic(x,x0,y0):\n",
    "    \"\"\"\n",
    "    The analytic solution to fun1\n",
    "    \"\"\"\n",
    "    c0 = y0 / np.exp(np.arctan(x0))\n",
    "    return c0 * np.exp(np.arctan(x))"
   ]
  },
  {
   "cell_type": "code",
   "execution_count": 145,
   "id": "f3946783",
   "metadata": {
    "hidden": true
   },
   "outputs": [],
   "source": [
    "x0 = -20\n",
    "xf = 20\n",
    "y0 = 1\n",
    "num = 200\n",
    "x_rk4, y_rk4 = rk4_integrate(fun1,x0=x0,xf=xf,y0=y0,num=num)\n",
    "y_analytic = fun1_analytic(x_rk4,x0,y0)"
   ]
  },
  {
   "cell_type": "code",
   "execution_count": 146,
   "id": "1d51512d",
   "metadata": {
    "hidden": true
   },
   "outputs": [
    {
     "data": {
      "image/png": "[encoded data removed]",
      "text/plain": [
       "<Figure size 432x288 with 1 Axes>"
      ]
     },
     "metadata": {
      "needs_background": "light"
     },
     "output_type": "display_data"
    }
   ],
   "source": [
    "plt.figure()\n",
    "plt.title(r\"Integrating $\\frac{dy}{dx} = \\frac{y}{1+x^2}$ with an RK4 step and \"+ str(num_steps) +\" steps\")\n",
    "plt.plot(x_rk4,y_rk4,c='k',lw=3,label=\"RK4\")\n",
    "plt.plot(x_rk4,y_analytic,c='r',ls='--',lw=3,label=\"Analytic\")\n",
    "plt.ylabel(r\"$y$\")\n",
    "plt.xlabel(r\"$x$\")\n",
    "plt.legend()\n",
    "plt.show()"
   ]
  },
  {
   "cell_type": "markdown",
   "id": "f20fe158",
   "metadata": {
    "hidden": true
   },
   "source": [
    "To get an idea of the relative error, we can compute the mean of `y_analytic - y_rk4`:"
   ]
  },
  {
   "cell_type": "code",
   "execution_count": 81,
   "id": "96afcfb8",
   "metadata": {
    "hidden": true
   },
   "outputs": [
    {
     "data": {
      "text/plain": [
       "0.00011380566013480392"
      ]
     },
     "execution_count": 81,
     "metadata": {},
     "output_type": "execute_result"
    }
   ],
   "source": [
    "np.mean(y_analytic-y_rk4)"
   ]
  },
  {
   "cell_type": "markdown",
   "id": "1c9eb721",
   "metadata": {
    "hidden": true
   },
   "source": [
    "This is not bad, but not great. We would now like to build a *better* rk4 step that compares a step of length $h$ to two steps of length $h/2$. In the RK4 method, the error scales as $h^4$ (similar to Simpson's rule). We can use this to our advantage, since $y(x+h) = y_{\\mathrm{true}} + a h^4$ and $y(x+\\frac{h}{2}) = y_{\\mathrm{true}} + a \\frac{h^4}{16}$, therefore\n",
    "\\begin{equation}\n",
    "y_{\\mathrm{true}} = \\frac{16y(x+h/2) - y(x+h)}{15}\n",
    "\\end{equation}\n",
    "up to fifth order now. This is a very similar trick to the one we pulled to get better integrals."
   ]
  },
  {
   "cell_type": "code",
   "execution_count": 151,
   "id": "c45c897f",
   "metadata": {
    "hidden": true
   },
   "outputs": [],
   "source": [
    "def rk4_stepd(fun,x,y,h):\n",
    "    \"\"\"\n",
    "    RK4 step that cancels leading order error by comparing intervals h and h/2\n",
    "    There are a total of 12 function calls here\n",
    "    \"\"\"\n",
    "    # first type: step size h\n",
    "    # this is tested and works\n",
    "    y_h = rk4_step(fun,x,y,h) # <- 4 calls\n",
    "    \n",
    "    # second type: two steps of sizes h/2\n",
    "    # this is tested and works\n",
    "    y_mid = rk4_step(fun,x,y,h/2) # <- 4 calls\n",
    "    x_mid = x + h/2\n",
    "    y_h2 = rk4_step(fun,x_mid,y_mid,h/2) # <- 4 calls\n",
    "    \n",
    "    # compute ytrue based on the 4th order error cancellation\n",
    "    y_true = (16*y_h2 - y_h) / 15\n",
    "        \n",
    "    return y_true"
   ]
  },
  {
   "cell_type": "code",
   "execution_count": 152,
   "id": "7bb7d126",
   "metadata": {
    "hidden": true
   },
   "outputs": [],
   "source": [
    "def rk4_integrated(fun,x0,xf,y0,num,return_count=False):\n",
    "    \"\"\"\n",
    "    Solve an ODE `fun` with initial conditions x0, y0 and `num` steps to xf.\n",
    "    Returns x and y arrays.\n",
    "    Uses refined rk4_stepd instead of rk4_step\n",
    "    \"\"\"\n",
    "    # set count to 0\n",
    "    count = 0\n",
    "    \n",
    "    # dress an array of x-values\n",
    "    x = np.linspace(x0, xf, num+1) # add 1 because of endpoint\n",
    "    \n",
    "    # from those, compute the step size\n",
    "    h = np.median(np.diff(x))\n",
    "    \n",
    "    # make an array of y values to fill\n",
    "    y = np.zeros(num+1)\n",
    "    \n",
    "    # define the initial value\n",
    "    y[0] = y0\n",
    "    \n",
    "    # take a step of size h and h/2 and compute the new y value usig rk4_stepd\n",
    "    for i in range(num): # there are a total of num_steps steps\n",
    "        y[i+1] = rk4_stepd(fun1,x[i],y[i],h)\n",
    "        count += 12 # there are a total of 12 function calls in rk4_stepd\n",
    "        \n",
    "    if return_count:\n",
    "        return x, y, count\n",
    "    \n",
    "    else:\n",
    "        return x, y"
   ]
  },
  {
   "cell_type": "code",
   "execution_count": 153,
   "id": "b2fa7c20",
   "metadata": {
    "hidden": true
   },
   "outputs": [],
   "source": [
    "x_rk4d, y_rk4d = rk4_integrated(fun1,x0=x0,xf=xf,y0=y0,num=num)"
   ]
  },
  {
   "cell_type": "code",
   "execution_count": 154,
   "id": "4dd751c6",
   "metadata": {
    "hidden": true
   },
   "outputs": [
    {
     "data": {
      "image/png": "[encoded data removed]",
      "text/plain": [
       "<Figure size 432x288 with 1 Axes>"
      ]
     },
     "metadata": {
      "needs_background": "light"
     },
     "output_type": "display_data"
    }
   ],
   "source": [
    "plt.figure()\n",
    "plt.title(r\"Integrating $\\frac{dy}{dx} = \\frac{y}{1+x^2}$ with an RK4 step and \"+ str(num_steps) +\" steps\")\n",
    "plt.plot(x_rk4,y_rk4,c='k',lw=3,label=\"RK4\")\n",
    "plt.plot(x_rk4,y_analytic,c='r',ls='--',lw=3,label=\"Analytic\")\n",
    "plt.ylabel(r\"$y$\")\n",
    "plt.xlabel(r\"$x$\")\n",
    "plt.legend()\n",
    "plt.show()"
   ]
  },
  {
   "cell_type": "code",
   "execution_count": 155,
   "id": "37b31aac",
   "metadata": {
    "hidden": true
   },
   "outputs": [
    {
     "data": {
      "text/plain": [
       "-2.0613363189614818e-07"
      ]
     },
     "execution_count": 155,
     "metadata": {},
     "output_type": "execute_result"
    }
   ],
   "source": [
    "np.mean(y_analytic-y_rk4d)"
   ]
  },
  {
   "cell_type": "markdown",
   "id": "581edaa2",
   "metadata": {
    "hidden": true
   },
   "source": [
    "The error is much lower than before! The number of function calls for `rk4_stepd` is three times as many as for `rk4_step`, since we evaluate the function at $x+h$ and also at $x+h/2 \\equiv x_{m}$, $x_m + h/2$. Moreover, a single `rk4_step` evaluation has 4 total function calls per step and `num = 200` steps, for a total of $800$ steps. Therefore, `rk4_stepd` has $2400$ function calls:"
   ]
  },
  {
   "cell_type": "code",
   "execution_count": 156,
   "id": "e08be50c",
   "metadata": {
    "hidden": true
   },
   "outputs": [],
   "source": [
    "x_rk4, y_rk4, count = rk4_integrate(fun1,x0=x0,xf=xf,y0=y0,num=num,return_count=True)\n",
    "x_rk4d, y_rk4d, countd = rk4_integrated(fun1,x0=x0,xf=xf,y0=y0,num=num,return_count=True)"
   ]
  },
  {
   "cell_type": "code",
   "execution_count": 160,
   "id": "afcbb495",
   "metadata": {
    "hidden": true
   },
   "outputs": [
    {
     "name": "stdout",
     "output_type": "stream",
     "text": [
      "Number of function calls in normal rk4 routine: 800\n",
      "Number of function calls in new rk4 routine: 2400\n"
     ]
    }
   ],
   "source": [
    "print(\"Number of function calls in normal rk4 routine: {}\".format(count))\n",
    "print(\"Number of function calls in new rk4 routine: {}\".format(countd))"
   ]
  },
  {
   "cell_type": "markdown",
   "id": "5e49a457",
   "metadata": {
    "hidden": true
   },
   "source": [
    "as expected. So, to use the same number of function calls in `rk4_stepd`, we need to decrease the number of steps `num` by a factor of 3:"
   ]
  },
  {
   "cell_type": "code",
   "execution_count": 161,
   "id": "3cf7a43b",
   "metadata": {
    "hidden": true
   },
   "outputs": [],
   "source": [
    "new_num = int(num / 3)"
   ]
  },
  {
   "cell_type": "markdown",
   "id": "6864cc58",
   "metadata": {
    "hidden": true
   },
   "source": [
    "Let's run the routines for each and compare the errors for the same number of function calls:"
   ]
  },
  {
   "cell_type": "code",
   "execution_count": 169,
   "id": "058e4c1e",
   "metadata": {
    "hidden": true
   },
   "outputs": [],
   "source": [
    "x_rk4, y_rk4, count = rk4_integrate(fun1,x0=x0,xf=xf,y0=y0,num=num,return_count=True)\n",
    "x_rk4d, y_rk4d, countd_new = rk4_integrated(fun1,x0=x0,xf=xf,y0=y0,num=new_num,return_count=True)\n",
    "y_analytic_new = fun1_analytic(x_rk4d,x0,y0)"
   ]
  },
  {
   "cell_type": "code",
   "execution_count": 172,
   "id": "054d68bb",
   "metadata": {
    "hidden": true
   },
   "outputs": [
    {
     "name": "stdout",
     "output_type": "stream",
     "text": [
      "Error using normal rk4 routine: 0.00011380566013480392\n",
      "Error using new rk4 routine: -8.846298835413463e-06\n"
     ]
    }
   ],
   "source": [
    "print(\"Error using normal rk4 routine: {}\".format(np.mean(y_analytic-y_rk4)))\n",
    "print(\"Error using new rk4 routine: {}\".format(np.mean(y_analytic_new-y_rk4d)))"
   ]
  },
  {
   "cell_type": "markdown",
   "id": "f7c603b1",
   "metadata": {
    "hidden": true
   },
   "source": [
    "The error is indeed much smaller using the new routine with the same number of function calls. Let's check that the function calls are indeed more or less the same:"
   ]
  },
  {
   "cell_type": "code",
   "execution_count": 173,
   "id": "c40e68e6",
   "metadata": {
    "hidden": true
   },
   "outputs": [
    {
     "name": "stdout",
     "output_type": "stream",
     "text": [
      "Number of function calls in normal rk4 routine: 800\n",
      "Number of function calls in new rk4 routine: 792\n"
     ]
    }
   ],
   "source": [
    "print(\"Number of function calls in normal rk4 routine: {}\".format(count))\n",
    "print(\"Number of function calls in new rk4 routine: {}\".format(countd_new))"
   ]
  },
  {
   "cell_type": "markdown",
   "id": "f46f601f",
   "metadata": {
    "hidden": true
   },
   "source": [
    "Indeed, the number of function calls is in fact lesser in the new routine, and it still has a smaller error! In conclusion, the second method (using step sizes $h$ and $h/2$ and cancelling out the erros) is more accurate for a given number of step sizes."
   ]
  },
  {
   "cell_type": "markdown",
   "id": "e754faf4",
   "metadata": {},
   "source": [
    "## Problem 2"
   ]
  },
  {
   "cell_type": "markdown",
   "id": "4ef1f7d1",
   "metadata": {},
   "source": [
    "### a)"
   ]
  },
  {
   "cell_type": "markdown",
   "id": "bb6d0894",
   "metadata": {},
   "source": [
    "There are a few ways we can tackle this problem. The simplest is to go through each equation, solving for a single $N(t)$ along the way. The equations in question are\n",
    "\\begin{gather}\n",
    "\\dot{N}_{U-238} = - \\lambda_{U-238} N_{U-238} \\\\\n",
    "\\dot{N}_{Th-234} = - \\lambda_{Th-234} N_{Th-234} + \\lambda_{U-238} N_{U-238} \\\\\n",
    "\\dots \\\\\n",
    "\\dot{N}_{Pb-206} = + \\lambda_{Po-210} N_{Po-210}\n",
    "\\end{gather}\n",
    "where we haven't written out all of the middle ones. So, seeing this, one can start from the first equation and work their way down, solving for $N$ along the way. Equivalently, we can dress this problem as a linear matrix ODE with constant coefficients:\n",
    "\\begin{equation}\n",
    "\\dot{\\mathbf{N}}(t) = \\mathbf{\\Lambda} \\cdot \\mathbf{N}(t)\n",
    "\\end{equation}\n",
    "where $\\mathbf{N}$ is the vector of all $N$s and $\\mathbf{\\Lambda}$ is the matrix containing the information on half-lifes (equivalently, decay constants). We'll go ahead and solve this problem the second way, since that is probably the more \"computational\" way of doing things as opposed to the more \"analytical\" way of simply going through each equation and solving a one-line ODE.\n",
    "\n",
    "To do so, first define the right-hand-side of each of the 15 equations into one single vectorized function. We will also use the `method = 'Radau'` option, as our equations will be stiff due to the wildly varying timescales."
   ]
  },
  {
   "cell_type": "code",
   "execution_count": 467,
   "id": "0b47fb36",
   "metadata": {},
   "outputs": [],
   "source": [
    "# express it all in years\n",
    "year_microsec = 1 / (24 * 3600 * 365) * 10**(-6)\n",
    "year_minute = 1 / (365 * 24 * 60)\n",
    "\n",
    "U238_hl = 4.468 * 10**9 # originally in billions of years\n",
    "Th234_hl = 24.10 * 1 / (365) # originally in days\n",
    "Pr234_hl = 6.70 * 1 / (365 * 24) # originally in hours\n",
    "U234_hl = 245500 # originally in years\n",
    "Th230_hl = 75380 # originally in years\n",
    "Ra226_hl = 1600 # originally in years \n",
    "Rd222_hl = 3.8235 * 1 / (365) # originally in days\n",
    "Po218_hl = 3.10 * year_minute # originally in minutes\n",
    "Pb214_hl = 26.8 * year_minute # originally in minutes\n",
    "Bi214_hl = 19.9 * year_minute # originally in minutes\n",
    "Po214_hl = 164.3 * year_microsec\n",
    "Pb210_hl = 22.3 # originally in years \n",
    "Bi210_hl = 5.015 # originally in years \n",
    "Po210_hl = 138.376 * 24.10 * 1 / (365) # originally in days\n",
    "\n",
    "halflifes = [U238_hl,Th234_hl,Pr234_hl,U234_hl,Th230_hl,Ra226_hl,Rd222_hl,\n",
    "             Po218_hl,Pb214_hl,Bi214_hl,Po214_hl,Pb210_hl,Bi210_hl,Po210_hl]"
   ]
  },
  {
   "cell_type": "code",
   "execution_count": 468,
   "id": "bb8a257f",
   "metadata": {},
   "outputs": [],
   "source": [
    "# define vectorized function\n",
    "def vectorized_decay(x,y,half_life=halflifes):\n",
    "    \"\"\"\n",
    "    Matrix of ODEs to solve\n",
    "    every decay in the U-238 -- Pb-206 chain is included\n",
    "    \"\"\"\n",
    "    # size of half-life array\n",
    "    n = len(half_life)\n",
    "    \n",
    "    # initialize jacobian array\n",
    "    dydx = np.zeros(n+1) # +1 for lead which doesn't have a half life\n",
    "    \n",
    "    # do the endpoints which only have one process\n",
    "    dydx[0] = - y[0] / half_life[0] # first case of only uranium\n",
    "    dydx[n] = y[n-1] / half_life[n-1] # last case of lead: only polonium\n",
    "    \n",
    "    # middle cases: both gain and decay\n",
    "    for i in range(1,n): # note that the case i = n is not considered here (halflife[n] does not exist)\n",
    "        dydx[i] = y[i-1] / half_life[i-1] - y[i] / half_life[i]\n",
    "        \n",
    "    return dydx"
   ]
  },
  {
   "cell_type": "code",
   "execution_count": 469,
   "id": "8d54e698",
   "metadata": {},
   "outputs": [
    {
     "name": "stdout",
     "output_type": "stream",
     "text": [
      "  message: 'The solver successfully reached the end of the integration interval.'\n",
      "     nfev: 100\n",
      "     njev: 1\n",
      "      nlu: 28\n",
      "      sol: None\n",
      "   status: 0\n",
      "  success: True\n",
      "        t: array([0.00000000e+00, 1.68593953e+00, 1.85453348e+01, 1.87139288e+02,\n",
      "       1.87307882e+03, 1.87324741e+04, 1.87326427e+05, 5.07933577e+05,\n",
      "       1.10213323e+06, 2.04850860e+06, 4.20192363e+06, 1.29454104e+07,\n",
      "       7.58042949e+07, 7.04393140e+08, 1.00000000e+09])\n",
      " t_events: None\n",
      "        y: array([[1.00000000e+00, 1.00000000e+00, 9.99999996e-01, 9.99999958e-01,\n",
      "        9.99999581e-01, 9.99995807e-01, 9.99958075e-01, 9.99886324e-01,\n",
      "        9.99753358e-01, 9.99541621e-01, 9.99059994e-01, 9.97106832e-01,\n",
      "        9.83177067e-01, 8.54146209e-01, 7.99463992e-01],\n",
      "       [0.00000000e+00, 1.38952925e-11, 1.47681416e-11, 1.47778299e-11,\n",
      "        1.47778356e-11, 1.47777799e-11, 1.47772223e-11, 1.47761619e-11,\n",
      "        1.47741970e-11, 1.47710680e-11, 1.47639506e-11, 1.47350870e-11,\n",
      "        1.45292352e-11, 1.26224376e-11, 1.18143524e-11],\n",
      "       [0.00000000e+00, 1.60841510e-13, 1.71068097e-13, 1.71181638e-13,\n",
      "        1.71181706e-13, 1.71181060e-13, 1.71174601e-13, 1.71162318e-13,\n",
      "        1.71139557e-13, 1.71103311e-13, 1.71020866e-13, 1.70686520e-13,\n",
      "        1.68301998e-13, 1.46214266e-13, 1.36853667e-13],\n",
      "       [0.00000000e+00, 3.63279180e-10, 4.13560675e-09, 4.18534545e-08,\n",
      "        4.17610746e-07, 4.03660127e-06, 2.93267238e-05, 4.79978999e-05,\n",
      "        5.43034659e-05, 5.49045490e-05, 5.48967498e-05, 5.47902795e-05,\n",
      "        5.40248950e-05, 4.69347397e-05, 4.39299899e-05],\n",
      "       [0.00000000e+00, 1.19676408e-15, 1.55632369e-13, 1.59351351e-11,\n",
      "        1.58194271e-09, 1.43732215e-07, 6.15143610e-06, 1.38100043e-05,\n",
      "        1.65886679e-05, 1.68559322e-05, 1.68560379e-05, 1.68234599e-05,\n",
      "        1.65884532e-05, 1.44114068e-05, 1.34887923e-05],\n",
      "       [0.00000000e+00, 8.59581636e-21, 1.26811897e-17, 1.28091289e-14,\n",
      "        1.00362171e-11, 2.59282929e-09, 1.29279458e-07, 2.92707701e-07,\n",
      "        3.52069009e-07, 3.57779406e-07, 3.57782782e-07, 3.57091340e-07,\n",
      "        3.52103140e-07, 3.05893594e-07, 2.86310366e-07],\n",
      "       [0.00000000e+00, 5.52031027e-26, 8.28839824e-23, 8.38485600e-20,\n",
      "        6.57069978e-17, 1.69754646e-14, 8.46404065e-13, 1.91638336e-12,\n",
      "        2.30502715e-12, 2.34241363e-12, 2.34243573e-12, 2.33790880e-12,\n",
      "        2.30525061e-12, 2.00271260e-12, 1.87449946e-12],\n",
      "       [0.00000000e+00, 3.10811326e-29, 4.66668300e-26, 4.72099646e-23,\n",
      "        3.69955704e-20, 9.55784046e-18, 4.76558091e-16, 1.07899765e-15,\n",
      "        1.29781907e-15, 1.31886910e-15, 1.31888155e-15, 1.31633271e-15,\n",
      "        1.29794489e-15, 1.12760433e-15, 1.05541540e-15],\n",
      "       [0.00000000e+00, 2.68675948e-28, 4.03438934e-25, 4.08137428e-22,\n",
      "        3.19832649e-19, 8.26290719e-17, 4.11992156e-15, 9.32810872e-15,\n",
      "        1.12198552e-14, 1.14018361e-14, 1.14019437e-14, 1.13799086e-14,\n",
      "        1.12209429e-14, 9.74832134e-15, 9.12423636e-15],\n",
      "       [0.00000000e+00, 1.99487882e-28, 2.99566622e-25, 3.03057087e-22,\n",
      "        2.37487663e-19, 6.13551688e-17, 3.05919549e-15, 6.92646879e-15,\n",
      "        8.33116114e-15, 8.46628875e-15, 8.46636863e-15, 8.45000674e-15,\n",
      "        8.33196880e-15, 7.23849234e-15, 6.77508595e-15],\n",
      "       [0.00000000e+00, 2.74504682e-35, 4.12217722e-32, 4.17020766e-29,\n",
      "        3.26794163e-26, 8.44275899e-24, 4.20959647e-22, 9.53114592e-22,\n",
      "        1.14640685e-21, 1.16500104e-21, 1.16501203e-21, 1.16276056e-21,\n",
      "        1.14651799e-21, 9.96050495e-22, 9.32283603e-22],\n",
      "       [0.00000000e+00, 2.09850337e-24, 3.12624977e-20, 1.28413897e-16,\n",
      "        1.35394760e-13, 3.60486443e-11, 1.80158180e-09, 4.07953184e-09,\n",
      "        4.90695432e-09, 4.98655027e-09, 4.98659754e-09, 4.97696058e-09,\n",
      "        4.90743754e-09, 4.26339199e-09, 3.99045075e-09],\n",
      "       [0.00000000e+00, 2.87800645e-26, 3.18242637e-21, 2.64908545e-17,\n",
      "        3.02229484e-14, 8.10241009e-12, 4.05141263e-10, 9.17433186e-10,\n",
      "        1.10351424e-09, 1.12141477e-09, 1.12142541e-09, 1.11925818e-09,\n",
      "        1.10362329e-09, 9.58785239e-10, 8.97404059e-10],\n",
      "       [0.00000000e+00, 1.63720347e-27, 1.59386757e-21, 4.11675346e-17,\n",
      "        5.43189208e-14, 1.47465151e-11, 7.38066926e-10, 1.67141731e-09,\n",
      "        2.01044262e-09, 2.04305603e-09, 2.04307546e-09, 2.03912707e-09,\n",
      "        2.01064255e-09, 1.74676851e-09, 1.63494084e-09],\n",
      "       [0.00000000e+00, 7.05330572e-29, 5.14735392e-22, 1.80493202e-16,\n",
      "        2.88173982e-12, 9.57700654e-09, 6.31495822e-06, 5.15687787e-05,\n",
      "        1.75389951e-04, 3.86252951e-04, 8.67887619e-04, 2.82118905e-03,\n",
      "        1.67519600e-02, 1.45792132e-01, 2.00478296e-01]])\n",
      " y_events: None\n"
     ]
    }
   ],
   "source": [
    "# make the initial values of y\n",
    "n = len(halflifes)\n",
    "y0 = np.zeros(n+1,dtype=float)\n",
    "y0[0] = 1\n",
    "# and set the time range\n",
    "x0 = 0\n",
    "xf = 10**9\n",
    "\n",
    "ans_decay = solve_ivp(fun=vectorized_decay,t_span=[x0,xf],y0=y0,method='Radau')\n",
    "\n",
    "print(ans_decay)"
   ]
  },
  {
   "cell_type": "markdown",
   "id": "f06ba0fb",
   "metadata": {},
   "source": [
    "This is the program that solves for the decay products of U-238 using the scipy ODE solver `solve_ivp` in vectorized form. Next, we will see the solutions explicitly."
   ]
  },
  {
   "cell_type": "markdown",
   "id": "71f7a028",
   "metadata": {},
   "source": [
    "### b)"
   ]
  },
  {
   "cell_type": "markdown",
   "id": "d10968c0",
   "metadata": {},
   "source": [
    "First, we want to plot the ratio of Pb206 to U238 over a region of time where it is interesting. Since the half-life of U238 is on the order of a Billion years, let's look between one billion and one billion plus one million years (enough to have the other decay products flow through)."
   ]
  },
  {
   "cell_type": "code",
   "execution_count": 470,
   "id": "2cdb4695",
   "metadata": {},
   "outputs": [],
   "source": [
    "# make the initial values of y\n",
    "n = len(halflifes)\n",
    "y0 = np.zeros(n+1,dtype=float)\n",
    "y0[0] = 1 # only U238 at first\n",
    "# and set the time range of interest (this will be on the scale of U238 decay)\n",
    "x0 = 10**9\n",
    "xf = 10**9 + 10**6\n",
    "\n",
    "ans_decay = solve_ivp(fun=vectorized_decay,t_span=[x0,xf],y0=y0,method='Radau')"
   ]
  },
  {
   "cell_type": "code",
   "execution_count": 471,
   "id": "d7ee07b7",
   "metadata": {},
   "outputs": [
    {
     "data": {
      "image/png": "[encoded data removed]",
      "text/plain": [
       "<Figure size 432x288 with 1 Axes>"
      ]
     },
     "metadata": {
      "needs_background": "light"
     },
     "output_type": "display_data"
    }
   ],
   "source": [
    "plt.title(\"Ratio of Pb-206 to U-238 \")\n",
    "plt.ylabel(r\"$N$\")\n",
    "plt.xlabel(r\"$t$\")\n",
    "plt.plot(ans_decay.t,ans_decay.y[14,:]/ans_decay.y[0,:])\n",
    "plt.show()"
   ]
  },
  {
   "cell_type": "markdown",
   "id": "64b5a5e8",
   "metadata": {},
   "source": [
    "It makes sense that the ratio would look exponential. Since the halflife of Uranium-238 is so long compared to anything else, it can be seen as decaying instantly to lead:\n",
    "\\begin{gather} \n",
    "\\dot{N}_{U238} = \\frac{-1}{t_{U238}} N_{U238}\\\\\n",
    "\\dot{N}_{Pb} = \\frac{1}{t_{U238}} N_{U238}.\n",
    "\\end{gather}\n",
    "Solving for both leads to $N_{Pb} = N_{U238}(0)(1-e^{-t/t_{U238}})$. This exponential behaviour is seen in the plot above. So, our analytical expectation is met.\n",
    "\n",
    "Now, let's look at the ration between Thorium-230 and U-234. Since both of their half-lives are on the order of a few tens-to-a-hundred tousand years, let's look between $10^4$ and $10^7$."
   ]
  },
  {
   "cell_type": "code",
   "execution_count": 473,
   "id": "8a8a89d2",
   "metadata": {},
   "outputs": [
    {
     "name": "stderr",
     "output_type": "stream",
     "text": [
      "/var/folders/9r/bpr4jkd977j2221xz84wjlzm0000gn/T/ipykernel_26090/2833110572.py:15: RuntimeWarning: invalid value encountered in true_divide\n",
      "  plt.plot(ans_decay.t,ans_decay.y[4,:]/ans_decay.y[3,:])\n"
     ]
    },
    {
     "data": {
      "image/png": "[encoded data removed]",
      "text/plain": [
       "<Figure size 432x288 with 1 Axes>"
      ]
     },
     "metadata": {
      "needs_background": "light"
     },
     "output_type": "display_data"
    }
   ],
   "source": [
    "# make the initial values of y\n",
    "n = len(halflifes)\n",
    "y0 = np.zeros(n+1,dtype=float)\n",
    "y0[0] = 1\n",
    "# and set the time range of interest (this will be on the scale of U238 decay)\n",
    "x0 = 10**5\n",
    "xf = 10**6\n",
    "\n",
    "ans_decay = solve_ivp(fun=vectorized_decay,t_span=[x0,xf],y0=y0,method='Radau')\n",
    "\n",
    "# thorium is index 4 and U234 is index 3\n",
    "plt.title(\"Ratio of Th-230 to U-234 \")\n",
    "plt.ylabel(r\"$N$\")\n",
    "plt.xlabel(r\"$t$\")\n",
    "plt.plot(ans_decay.t,ans_decay.y[4,:]/ans_decay.y[3,:])\n",
    "plt.show()"
   ]
  },
  {
   "cell_type": "markdown",
   "id": "abef652b",
   "metadata": {},
   "source": [
    "and the ratio of their densities is relatively constant for large time-scales. Now, we can tackle this problem analytically as well by simply diagonalizing a matrix of ODEs:"
   ]
  },
  {
   "cell_type": "code",
   "execution_count": 474,
   "id": "b1c9252d",
   "metadata": {},
   "outputs": [],
   "source": [
    "# how many elements are we dealing with here?\n",
    "n = len(halflifes) + 1 # add 1 for the Pb which has no half-life\n",
    "# make the matrix A\n",
    "A = np.zeros((n,n),dtype=float)\n",
    "\n",
    "# fill it uo\n",
    "for i in range(n-1):\n",
    "    A[i,i] = -1 / halflifes[i] # fill up the diagonals with -1/t except for the last point\n",
    "    A[i+1,i] = 1 / halflifes[i] # fill up the bottom off diagonals with 1/t \n",
    "A[-1,-1] = 0 # last diagonal is zero\n",
    "\n",
    "ev, evec = np.linalg.eig(A) # evec is a matrix of eigvectors s.t. evec[:,i] is the ith eigvec\n",
    "\n",
    "# find the value of each coefficient by inverting the matrix of vectors and dotting it with N0\n",
    "N0 = np.zeros(n,dtype=float)\n",
    "N0[0] = 1\n",
    "Cs = np.linalg.pinv(evec) @ N0\n",
    "\n",
    "# write out the solution as a linear combination\n",
    "def N(t,element):\n",
    "    N = 0\n",
    "    for i in range(n):\n",
    "        N += Cs[i] * np.exp(ev[i] * t) * evec[:,i][element]\n",
    "    return N"
   ]
  },
  {
   "cell_type": "code",
   "execution_count": 478,
   "id": "9b37da35",
   "metadata": {},
   "outputs": [
    {
     "data": {
      "image/png": "[encoded data removed]",
      "text/plain": [
       "<Figure size 432x288 with 1 Axes>"
      ]
     },
     "metadata": {
      "needs_background": "light"
     },
     "output_type": "display_data"
    }
   ],
   "source": [
    "# ratio of lead to uranium\n",
    "ts = np.linspace(10**9,10**9+10**6,num=1000)\n",
    "ratio = N(ts,element=14) / N(ts,element=0)\n",
    "\n",
    "\n",
    "plt.title(\"Ratio of Pb-206 to U-238 \")\n",
    "plt.ylabel(r\"$N$\")\n",
    "plt.xlabel(r\"$t$\")\n",
    "plt.plot(ts,ratio)\n",
    "plt.show()"
   ]
  },
  {
   "cell_type": "code",
   "execution_count": 479,
   "id": "f65adc6f",
   "metadata": {},
   "outputs": [
    {
     "data": {
      "image/png": "[encoded data removed]",
      "text/plain": [
       "<Figure size 432x288 with 1 Axes>"
      ]
     },
     "metadata": {
      "needs_background": "light"
     },
     "output_type": "display_data"
    }
   ],
   "source": [
    "ts = np.linspace(10**5,10**6,num=1000)\n",
    "ratio = N(ts,element=4) / N(ts,element=3)\n",
    "\n",
    "plt.title(\"Ratio of Th-230 to U-234 \")\n",
    "plt.ylabel(r\"$N$\")\n",
    "plt.xlabel(r\"$t$\")\n",
    "plt.plot(ts,ratio)\n",
    "plt.show()"
   ]
  },
  {
   "cell_type": "markdown",
   "id": "f072540e",
   "metadata": {},
   "source": [
    "These plots match the ones found in a more computational way."
   ]
  },
  {
   "cell_type": "markdown",
   "id": "fce89855",
   "metadata": {},
   "source": [
    "## Problem 3"
   ]
  },
  {
   "cell_type": "markdown",
   "id": "33fff7f7",
   "metadata": {},
   "source": [
    "\n",
    "\n"
   ]
  },
  {
   "cell_type": "markdown",
   "id": "9192913a",
   "metadata": {},
   "source": [
    "### a)"
   ]
  },
  {
   "cell_type": "markdown",
   "id": "7dfcd3b6",
   "metadata": {},
   "source": [
    "To find the new parameters that make the system linear, first expand the function:\n",
    "\\begin{equation}\n",
    "z = z_0 + a(x^2+y^2) - 2xax_0 - 2y a y_0 + a(x_0^2+y_0^2).\n",
    "\\end{equation}\n",
    "Now, the non-linear parts are $- 2xax_0 - 2y a y_0 + a(x_0^2+y_0^2)$, since they depend on the square or product of parameters (note that the square of data is fine -- it is linearity in the parameters that we seek). To this end, we define the variables\n",
    "\\begin{gather}\n",
    "u = a x_0, \\\\\n",
    "v = a y_0, \\\\\n",
    "w = z_0 + a (x_0^2+y_0^2).\n",
    "\\end{gather}\n",
    "The equation is now:\n",
    "\\begin{equation}\n",
    "\\boxed{\n",
    "z = w + a(x^2+y^2) - 2xu - 2y v},\n",
    "\\end{equation}\n",
    "linear in $a,u,v,w$. To dress the problem as a matrix, write:\n",
    "\\begin{equation}\n",
    "\\mathbf{z} = \\mathbf{A} \\cdot \\mathbf{m}\n",
    "\\end{equation}\n",
    "where $\\mathbf{z} = (z_1,\\dots,z_n)^T$, $\\mathbf{m} = (u,v,w,a)^T$ and\n",
    "\\begin{equation}\n",
    "\\mathbf{A} = \n",
    "\\begin{pmatrix}\n",
    "-2x_1 & -2y_1 & 1 & x_1^2 + y_1^2 \\\\\n",
    "\\vdots & \\vdots & \\vdots & \\vdots \\\\\n",
    "-2x_n & -2y_n & 1 & x_n^2 + y_n^2\n",
    "\\end{pmatrix}.\n",
    "\\end{equation}\n",
    "To solve this, we simply use the whole linear least squares formalism with our refined variables and then switch back to the correct variables, propagating error along the way."
   ]
  },
  {
   "cell_type": "markdown",
   "id": "6b5ecb25",
   "metadata": {},
   "source": [
    "### b)\n",
    " To solve this, we simply use the whole linear least squares formalism with our refined variables and then switch back to the correct variables, propagating error along the way."
   ]
  },
  {
   "cell_type": "code",
   "execution_count": 481,
   "id": "f67d9a7b",
   "metadata": {},
   "outputs": [],
   "source": [
    "# first, load the data\n",
    "data = np.loadtxt(\"dish_zenith.txt\", delimiter=\" \")\n",
    "x = data[:,0]\n",
    "y = data[:,1]\n",
    "z = data[:,2]"
   ]
  },
  {
   "cell_type": "code",
   "execution_count": 482,
   "id": "7930decb",
   "metadata": {},
   "outputs": [],
   "source": [
    "# next, perform the fit\n",
    "\n",
    "# there are 4 parameters\n",
    "deg = 4\n",
    "\n",
    "# make the A matrix\n",
    "A = np.zeros([len(z),deg])\n",
    "A[:,0] = -2*x\n",
    "A[:,1] = -2*y\n",
    "A[:,2] = 1\n",
    "A[:,3] = x**2 + y**2\n",
    "\n",
    "# perform the fit\n",
    "lhs = A.T@A\n",
    "rhs = A.T@z\n",
    "u, v, w, a = np.linalg.inv(lhs)@rhs # these are the parameters\n",
    "pred = A@fitp # these are the predicted z values"
   ]
  },
  {
   "cell_type": "code",
   "execution_count": 483,
   "id": "7dea293c",
   "metadata": {},
   "outputs": [
    {
     "name": "stdout",
     "output_type": "stream",
     "text": [
      "The best fit parameters are: x0 = -1.3604886221692303, y0 = 58.221476081579986, z0 = -1512.877210036791, a = 0.00016670445477401434\n"
     ]
    }
   ],
   "source": [
    "# switch back to our variables of interest\n",
    "x0 = u/a\n",
    "y0 = v/a\n",
    "z0 = w - a*(x0**2 + y0**2)\n",
    "print(\"The best fit parameters are: x0 = {}, y0 = {}, z0 = {}, a = {}\".format(x0,y0,z0,a))"
   ]
  },
  {
   "cell_type": "markdown",
   "id": "c64c37de",
   "metadata": {},
   "source": [
    "We will estimate the error of $a$ below."
   ]
  },
  {
   "cell_type": "markdown",
   "id": "46a11cbb",
   "metadata": {},
   "source": [
    "### c)\n",
    "\n",
    "Now, estimate the error by using the same machinary as seen in class: take the covariance matrix to be the squared of the residuals alogn the diagonals and go through the motions, multiplying it by the left hand side $A^T \\cdot A$:"
   ]
  },
  {
   "cell_type": "code",
   "execution_count": 484,
   "id": "89cf45eb",
   "metadata": {},
   "outputs": [
    {
     "name": "stdout",
     "output_type": "stream",
     "text": [
      "The error in a 6.451899757263472e-08\n"
     ]
    }
   ],
   "source": [
    "# compute covariance matix\n",
    "N = np.mean((z-pred)**2)\n",
    "\n",
    "# parameter errors\n",
    "par_errs = np.sqrt(N*np.diag(np.linalg.inv(lhs)))\n",
    "print(\"The error in a {}\".format(par_errs[3]))\n",
    "\n",
    "# data errors\n",
    "tmp=A@np.linalg.inv(lhs)@A.T\n",
    "mod_err=np.sqrt(N*np.diag(tmp))"
   ]
  },
  {
   "cell_type": "markdown",
   "id": "f800b2b8",
   "metadata": {},
   "source": [
    "Since the focal length for a parabola is $z = x^2/(4f)$, we can determine it from our parameters as simply\n",
    "$$ f = \\frac{1}{4a}.$$"
   ]
  },
  {
   "cell_type": "code",
   "execution_count": 485,
   "id": "23a7786d",
   "metadata": {},
   "outputs": [
    {
     "name": "stdout",
     "output_type": "stream",
     "text": [
      "1499.6599841252091\n"
     ]
    }
   ],
   "source": [
    "focal_length = 1/(4*a)\n",
    "print(focal_length)"
   ]
  },
  {
   "cell_type": "markdown",
   "id": "4666808a",
   "metadata": {},
   "source": [
    "The error is $\\frac{1}{4 a^2} \\Delta a$, found by using a first order Taylor expansion (or, just taking the differential and leaving $\\Delta a$)."
   ]
  },
  {
   "cell_type": "code",
   "execution_count": 486,
   "id": "9ab5f818",
   "metadata": {},
   "outputs": [
    {
     "name": "stdout",
     "output_type": "stream",
     "text": [
      "0.5804077581892795\n"
     ]
    }
   ],
   "source": [
    "a_err = par_errs[3]\n",
    "focal_length_error = 1/4 * 1/(a)**2 * a_err \n",
    "print(focal_length_error)"
   ]
  },
  {
   "cell_type": "markdown",
   "id": "c457e7f7",
   "metadata": {},
   "source": [
    "So, we find $1499.7 \\pm 0.6 $ mm, just slightly inconsistent with the expected value of $1.5$m."
   ]
  },
  {
   "cell_type": "code",
   "execution_count": null,
   "id": "49852579",
   "metadata": {},
   "outputs": [],
   "source": []
  }
 ],
 "metadata": {
  "kernelspec": {
   "display_name": "Python 3 (ipykernel)",
   "language": "python",
   "name": "python3"
  },
  "language_info": {
   "codemirror_mode": {
    "name": "ipython",
    "version": 3
   },
   "file_extension": ".py",
   "mimetype": "text/x-python",
   "name": "python",
   "nbconvert_exporter": "python",
   "pygments_lexer": "ipython3",
   "version": "3.9.12"
  },
  "varInspector": {
   "cols": {
    "lenName": 16,
    "lenType": 16,
    "lenVar": 40
   },
   "kernels_config": {
    "python": {
     "delete_cmd_postfix": "",
     "delete_cmd_prefix": "del ",
     "library": "var_list.py",
     "varRefreshCmd": "print(var_dic_list())"
    },
    "r": {
     "delete_cmd_postfix": ") ",
     "delete_cmd_prefix": "rm(",
     "library": "var_list.r",
     "varRefreshCmd": "cat(var_dic_list()) "
    }
   },
   "position": {
    "height": "707.852px",
    "left": "1215px",
    "right": "20px",
    "top": "120px",
    "width": "235px"
   },
   "types_to_exclude": [
    "module",
    "function",
    "builtin_function_or_method",
    "instance",
    "_Feature"
   ],
   "window_display": false
  }
 },
 "nbformat": 4,
 "nbformat_minor": 5
}
