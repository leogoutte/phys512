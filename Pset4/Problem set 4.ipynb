{
 "cells": [
  {
   "cell_type": "markdown",
   "id": "e2900d02",
   "metadata": {},
   "source": [
    "# Problem set 4"
   ]
  },
  {
   "cell_type": "code",
   "execution_count": 713,
   "id": "b221eede",
   "metadata": {},
   "outputs": [],
   "source": [
    "# import all the fun stuff\n",
    "import numpy as np\n",
    "import matplotlib.pyplot as plt\n",
    "import seaborn as sns\n",
    "sns.set_style(\"white\")"
   ]
  },
  {
   "cell_type": "code",
   "execution_count": 714,
   "id": "65170d30",
   "metadata": {},
   "outputs": [],
   "source": [
    "data = np.load(\"mcmc/sidebands.npz\")"
   ]
  },
  {
   "cell_type": "code",
   "execution_count": 715,
   "id": "c1c87de3",
   "metadata": {},
   "outputs": [],
   "source": [
    "t_data = data['time']\n",
    "d = data['signal']\n",
    "\n",
    "# adjust t to order unity\n",
    "# by inspection, interesting stuff\n",
    "# occurs at t ~ 10^-4:\n",
    "t = t_data * 1e4"
   ]
  },
  {
   "cell_type": "markdown",
   "id": "7fe9de2f",
   "metadata": {},
   "source": [
    "## 1. a)"
   ]
  },
  {
   "cell_type": "markdown",
   "id": "fa1fcb85",
   "metadata": {},
   "source": [
    "First, analytically. The analytical derivatives are\n",
    "\\begin{gather}\n",
    "\\frac{\\partial d}{\\partial a} = \\frac{1}{1 + \\left(\\frac{t-t_0}{w}\\right)^2} \\\\\n",
    "\\frac{\\partial d}{\\partial t_0} = \\frac{2a(t-t_0)}{w^2 \\left(1 + \\left(\\frac{t-t_0}{w}\\right)^2\\right)^2} \\\\\n",
    "\\frac{\\partial d}{\\partial w} = \\frac{2a(t-t_0)^2}{w^3 \\left(1 + \\left(\\frac{t-t_0}{w}\\right)^2\\right)^2}\n",
    "\\end{gather}\n",
    "Let's run our Newton's method with these!"
   ]
  },
  {
   "cell_type": "code",
   "execution_count": 716,
   "id": "a2fdff98",
   "metadata": {},
   "outputs": [],
   "source": [
    "def calc_lorentz(p,t):\n",
    "    \"\"\"\n",
    "    Returns the function and its analytical gradient as a function\n",
    "    of model parameters\n",
    "    t is time\n",
    "    p is the set of parameters p = {a,t0,w}\n",
    "    \"\"\"\n",
    "    # unpack values\n",
    "    a, t0, w = p\n",
    "    \n",
    "    # evaluate function\n",
    "    y = a/(1+((t-t0)/w)**2)\n",
    "    \n",
    "    # evaluate graident (analytically computed by hand and verified with, e.g. mathematica)\n",
    "    grad=np.zeros([t.size,p.size])\n",
    "    \n",
    "    # w.r.t a\n",
    "    grad[:,0] = 1.0/(1+((t-t0)/w)**2)\n",
    "    \n",
    "    # w.r.t t0\n",
    "    grad[:,1] = 2*a*(t-t0) / (w * (1+((t-t0)/w)**2))**2\n",
    "    \n",
    "    # w.r.t w\n",
    "    grad[:,2] = 2*a*(t-t0)**2 / (w**3 * (1+((t-t0)/w)**2)**2)\n",
    "    \n",
    "    return y, grad"
   ]
  },
  {
   "cell_type": "code",
   "execution_count": 717,
   "id": "f153f6ae",
   "metadata": {},
   "outputs": [],
   "source": [
    "# a is the amplitude ~ 1\n",
    "# t0 is the mean ~ 0.002 -> 2 after re-scaling\n",
    "# w is the width ~ 0.001 -> 1 after re-scaling\n",
    "\n",
    "# initial guess:\n",
    "p0 = np.array([1., 2., 1.])"
   ]
  },
  {
   "cell_type": "code",
   "execution_count": 718,
   "id": "8c12da89",
   "metadata": {},
   "outputs": [],
   "source": [
    "def newtons_method(p0,t,d,num,print_params=False):\n",
    "    \"\"\"\n",
    "    Runs Newton's method for initial parameter guess p0\n",
    "    t an\n",
    "    d d are the time and data, resp.\n",
    "    \"\"\"\n",
    "    # starting parameters is p0\n",
    "    p = p0.copy()\n",
    "\n",
    "    for i in range(num):\n",
    "        # calculate derivatives and function\n",
    "        pred, grad = calc_lorentz(p,t)\n",
    "        \n",
    "        # delta is difference between data and prediction\n",
    "        # thanks Jon for the code\n",
    "        r = d - pred\n",
    "        err = (r**2).sum()\n",
    "        r = r.T\n",
    "        \n",
    "        lhs=grad.T@grad\n",
    "        rhs=grad.T@r\n",
    "        dp=np.linalg.inv(lhs)@(rhs)\n",
    "        for jj in range(p.size):\n",
    "            p[jj]=p[jj]+dp[jj]\n",
    "            \n",
    "        if print_params:\n",
    "            print(\"The parameters are:\",p)\n",
    "            print(\"The step is:\",dp)\n",
    "    \n",
    "    return p, dp"
   ]
  },
  {
   "cell_type": "code",
   "execution_count": 719,
   "id": "88f1c649",
   "metadata": {},
   "outputs": [
    {
     "name": "stdout",
     "output_type": "stream",
     "text": [
      "The parameters are: [0.76785413 1.89433514 0.28446934]\n",
      "The step is: [-0.23214587 -0.10566486 -0.71553066]\n",
      "The parameters are: [1.3222158  1.95114333 0.11813508]\n",
      "The step is: [ 0.55436167  0.05680819 -0.16633426]\n",
      "The parameters are: [1.35809486 1.92932537 0.179909  ]\n",
      "The step is: [ 0.03587906 -0.02181796  0.06177392]\n",
      "The parameters are: [1.42290402 1.92311333 0.17907933]\n",
      "The step is: [ 0.06480916 -0.00621205 -0.00082967]\n",
      "The parameters are: [1.42271787 1.92360362 0.17925956]\n",
      "The step is: [-0.00018615  0.00049029  0.00018023]\n",
      "The parameters are: [1.42281015 1.92358533 0.17923704]\n",
      "The step is: [ 9.22812267e-05 -1.82867721e-05 -2.25195581e-05]\n",
      "The parameters are: [1.42281037 1.92358652 0.17923699]\n",
      "The step is: [ 2.13613838e-07  1.18840814e-06 -5.01302203e-08]\n",
      "The parameters are: [1.42281067 1.92358649 0.17923691]\n",
      "The step is: [ 3.05487858e-07 -2.98513525e-08 -7.70328631e-08]\n",
      "The parameters are: [1.42281068 1.92358649 0.17923691]\n",
      "The step is: [ 8.78734295e-09  3.19297294e-09 -2.21597067e-09]\n",
      "The parameters are: [1.42281068 1.92358649 0.17923691]\n",
      "The step is: [ 1.25820035e-09 -1.52552988e-11 -3.17289039e-10]\n",
      "The parameters are: [1.42281068 1.92358649 0.17923691]\n",
      "The step is: [ 6.29186719e-11  1.03044738e-11 -1.58668197e-11]\n",
      "The parameters are: [1.42281068 1.92358649 0.17923691]\n",
      "The step is: [ 5.89260636e-12  2.22780128e-13 -1.48602255e-12]\n"
     ]
    }
   ],
   "source": [
    "num = 12 # seems to do the trick\n",
    "params, dps = newtons_method(p0=p0,t=t,d=d,num=num,print_params=True)"
   ]
  },
  {
   "cell_type": "code",
   "execution_count": 720,
   "id": "f8a2e214",
   "metadata": {},
   "outputs": [
    {
     "name": "stdout",
     "output_type": "stream",
     "text": [
      "The parameters are: [1.42281068 1.92358649 0.17923691]\n",
      "The last step is: [ 5.89260636e-12  2.22780128e-13 -1.48602255e-12]\n"
     ]
    }
   ],
   "source": [
    "# converged values\n",
    "print(\"The parameters are:\",params)\n",
    "print(\"The last step is:\",dps)"
   ]
  },
  {
   "cell_type": "markdown",
   "id": "b316302c",
   "metadata": {},
   "source": [
    "We see that 12 iterations is plenty to achieve steps on the scale of machine precision. Plotting the final result:"
   ]
  },
  {
   "cell_type": "code",
   "execution_count": 941,
   "id": "12d5c582",
   "metadata": {},
   "outputs": [
    {
     "data": {
      "image/png": "[encoded data removed]",
      "text/plain": [
       "<Figure size 432x288 with 1 Axes>"
      ]
     },
     "metadata": {},
     "output_type": "display_data"
    }
   ],
   "source": [
    "pred = calc_lorentz(params,t)[0]\n",
    "\n",
    "plt.title(\"Newton's method -- analytical derivatives\")\n",
    "plt.plot(t,y,c='r',lw=2)\n",
    "plt.scatter(t,d,marker='.',s=0.1,c='k')\n",
    "plt.ylabel(r\"$d$\")\n",
    "plt.xlabel(r\"$t$\")\n",
    "plt.show()"
   ]
  },
  {
   "cell_type": "markdown",
   "id": "e75ab535",
   "metadata": {},
   "source": [
    "## 1.b)\n",
    "\n",
    "To estimate the noise in the data, we will do something very similar to what was done in problem set 3. That is, we take the noise squared, or covariance matrix $N$, as being identity times the mean of the data minus our prediction, squared. "
   ]
  },
  {
   "cell_type": "code",
   "execution_count": 722,
   "id": "ab4a1921",
   "metadata": {},
   "outputs": [
    {
     "name": "stdout",
     "output_type": "stream",
     "text": [
      "The noise in our data is: 0.02523344255292435\n"
     ]
    }
   ],
   "source": [
    "N = np.mean((d-pred)**2)\n",
    "noise = np.sqrt(N) # let the units guide you\n",
    "print(\"The noise in our data is:\",noise)"
   ]
  },
  {
   "cell_type": "markdown",
   "id": "9ea42eef",
   "metadata": {},
   "source": [
    "Note that this is the value for all data points. Indeed, in doing so, we are implicitly assuming that the data are independent and with uniform variance. As we will later see, this is not so good at all. \n",
    "\n",
    "The errors on the parameters is again found in a straightforward way, i.e. by inverting the left-hand-side of the Newton's method equation $A^T_m N^{-1}A_m \\delta_m = A_m^T N^{-1} (d-A(m_0))$, as Jon did in class."
   ]
  },
  {
   "cell_type": "code",
   "execution_count": 723,
   "id": "1fddfd84",
   "metadata": {},
   "outputs": [
    {
     "name": "stdout",
     "output_type": "stream",
     "text": [
      "The errors are [4.25479046e-04 5.35834556e-05 7.58809724e-05]\n"
     ]
    }
   ],
   "source": [
    "# parameter errors\n",
    "grad = calc_lorentz(params,t)[1]\n",
    "lhs = grad.T@grad\n",
    "par_errs = np.sqrt(N*np.diag(np.linalg.inv(lhs)))\n",
    "print(\"The errors are {}\".format(par_errs))"
   ]
  },
  {
   "cell_type": "markdown",
   "id": "6d58d911",
   "metadata": {},
   "source": [
    "At the end of the day, our parameters are therefore"
   ]
  },
  {
   "cell_type": "code",
   "execution_count": 724,
   "id": "e63513bc",
   "metadata": {},
   "outputs": [
    {
     "name": "stdout",
     "output_type": "stream",
     "text": [
      "a = 1.4228106806318428 +/- 0.00042547904587122423\n",
      "t0 = 1.9235864937564886 +/- 5.358345563321099e-05\n",
      "w = 0.1792369079402268 +/- 7.588097244726693e-05\n"
     ]
    }
   ],
   "source": [
    "print(\"a = {} +/- {}\".format(params[0],par_errs[0]))\n",
    "print(\"t0 = {} +/- {}\".format(params[1],par_errs[1]))\n",
    "print(\"w = {} +/- {}\".format(params[2],par_errs[2]))"
   ]
  },
  {
   "cell_type": "markdown",
   "id": "e725d6ef",
   "metadata": {},
   "source": [
    "## 1.c)\n",
    "\n",
    "Now we want to compute the derivatives numerically. To do so, we write a handler function which takes our lorentzian and returns its gradient with respect to all parameters.\n",
    "\n",
    "Let's use the differentiator from problem set 1 as the heart of our engine (it is the two-point derivative for added accuracy):"
   ]
  },
  {
   "cell_type": "code",
   "execution_count": 725,
   "id": "04ca9800",
   "metadata": {},
   "outputs": [],
   "source": [
    "def ndiff2(fun,x,dx_ord=0):\n",
    "    \"\"\"\n",
    "    Numerical derivative using both +/- dx and +/- 2*dx\n",
    "    \"\"\"\n",
    "    # this is a fine choice for our purposes:\n",
    "    # a) Newton's method will keep iterating until the solution is good and\n",
    "    # b) our function and its derivatives are of order unity\n",
    "    order = 3 + dx_ord\n",
    "    dx = 10**(-order)\n",
    "    \n",
    "    # compute the function at the points of interest\n",
    "    yplus = fun(x + dx)\n",
    "    yminus = fun(x - dx)\n",
    "    yplus2 = fun(x + 2*dx)\n",
    "    yminus2 = fun(x - 2*dx)\n",
    "    \n",
    "    # compute the numerical derivative\n",
    "    fprime = (8 * yplus - yplus2 + yminus2 - 8 * yminus) / (12 * dx)\n",
    "    \n",
    "    return fprime"
   ]
  },
  {
   "cell_type": "code",
   "execution_count": 726,
   "id": "2df3f65a",
   "metadata": {},
   "outputs": [],
   "source": [
    "def lorentz(t,a,t0,w):\n",
    "    \"\"\"\n",
    "    Simple Lorentzian function\n",
    "    \"\"\"\n",
    "    y = a / (1 + ((t-t0)/w)**2)\n",
    "    \n",
    "    return y\n",
    "    \n",
    "def params_grad(fun,t,params):\n",
    "    \"\"\"\n",
    "    Returns the numerical derivative at points `params` in parameter space\n",
    "    \"\"\"\n",
    "    a, t0, w = params\n",
    "    \n",
    "    # derivative w.r.t a at p\n",
    "    fun_a = lambda aa: fun(t,aa,t0,w)\n",
    "    grad_a = ndiff2(fun_a,a)\n",
    "    \n",
    "    # derivative w.r.t t0 at p\n",
    "    fun_t0 = lambda t00: fun(t,a,t00,w)\n",
    "    grad_t0 = ndiff2(fun_t0,t0)\n",
    "    \n",
    "    # derivative w.r.t w at p\n",
    "    fun_w = lambda ww: fun(t,a,t0,ww)\n",
    "    grad_w = ndiff2(fun_w,w)\n",
    "\n",
    "    # transpose to make it match with calc_lorentz\n",
    "    return np.array([grad_a, grad_t0, grad_w]).T "
   ]
  },
  {
   "cell_type": "code",
   "execution_count": 727,
   "id": "d564bd08",
   "metadata": {},
   "outputs": [],
   "source": [
    "def nnewtons_method(p0,t,d,num,print_params=False):\n",
    "    \"\"\"\n",
    "    Numerical derivative version of `newtons_method`\n",
    "    Runs Newton's method for initial parameter guess p0\n",
    "    t and d are the time and data, resp.\n",
    "    \"\"\"\n",
    "    # starting parameters is p0\n",
    "    p = p0.copy()\n",
    "\n",
    "    for i in range(num):\n",
    "        # calculate derivatives and function\n",
    "        a,t0,w = p\n",
    "        pred = lorentz(t,a,t0,w)\n",
    "        grad = params_grad(lorentz,t,p)\n",
    "        \n",
    "        # delta is difference between data and prediction\n",
    "        # thanks Jon for the code\n",
    "        r = d - pred\n",
    "        err = (r**2).sum()\n",
    "        r = r.T\n",
    "        \n",
    "        lhs=grad.T@grad\n",
    "        rhs=grad.T@r\n",
    "        dp=np.linalg.inv(lhs)@(rhs)\n",
    "        for jj in range(p.size):\n",
    "            p[jj]=p[jj]+dp[jj]\n",
    "                        \n",
    "        if print_params:\n",
    "            print(\"The parameters are:\",p)\n",
    "            print(\"The step is:\",dp)\n",
    "    \n",
    "    return p, dp"
   ]
  },
  {
   "cell_type": "code",
   "execution_count": 728,
   "id": "68484f77",
   "metadata": {
    "scrolled": true
   },
   "outputs": [
    {
     "name": "stdout",
     "output_type": "stream",
     "text": [
      "The parameters are: [0.76785413 1.89433514 0.28446934]\n",
      "The step is: [-0.23214587 -0.10566486 -0.71553066]\n",
      "The parameters are: [1.3222158  1.95114333 0.11813508]\n",
      "The step is: [ 0.55436167  0.05680819 -0.16633426]\n",
      "The parameters are: [1.35809486 1.92932537 0.179909  ]\n",
      "The step is: [ 0.03587907 -0.02181796  0.06177392]\n",
      "The parameters are: [1.42290402 1.92311333 0.17907933]\n",
      "The step is: [ 0.06480915 -0.00621205 -0.00082967]\n",
      "The parameters are: [1.42271787 1.92360362 0.17925956]\n",
      "The step is: [-0.00018615  0.00049029  0.00018023]\n",
      "The parameters are: [1.42281015 1.92358533 0.17923704]\n",
      "The step is: [ 9.22812171e-05 -1.82867716e-05 -2.25195558e-05]\n",
      "The parameters are: [1.42281037 1.92358652 0.17923699]\n",
      "The step is: [ 2.13613556e-07  1.18840806e-06 -5.01301458e-08]\n",
      "The parameters are: [1.42281067 1.92358649 0.17923691]\n",
      "The step is: [ 3.05487824e-07 -2.98513534e-08 -7.70328545e-08]\n",
      "The parameters are: [1.42281068 1.92358649 0.17923691]\n",
      "The step is: [ 8.78734101e-09  3.19297271e-09 -2.21597017e-09]\n",
      "The parameters are: [1.42281068 1.92358649 0.17923691]\n",
      "The step is: [ 1.25820007e-09 -1.52553341e-11 -3.17288991e-10]\n",
      "The parameters are: [1.42281068 1.92358649 0.17923691]\n",
      "The step is: [ 6.29190417e-11  1.03044399e-11 -1.58668476e-11]\n",
      "The parameters are: [1.42281068 1.92358649 0.17923691]\n",
      "The step is: [ 5.89274473e-12  2.22744756e-13 -1.48601868e-12]\n"
     ]
    }
   ],
   "source": [
    "# same num as last time\n",
    "params_n, dps_n = nnewtons_method(p0=p0,t=t,d=d,num=num,print_params=True)"
   ]
  },
  {
   "cell_type": "code",
   "execution_count": 729,
   "id": "8b2b9d9a",
   "metadata": {},
   "outputs": [
    {
     "name": "stdout",
     "output_type": "stream",
     "text": [
      "The parameters are: [1.42281068 1.92358649 0.17923691]\n",
      "The last step is: [ 5.89274473e-12  2.22744756e-13 -1.48601868e-12]\n"
     ]
    }
   ],
   "source": [
    "# converged values\n",
    "print(\"The parameters are:\",params_n)\n",
    "print(\"The last step is:\",dps_n)"
   ]
  },
  {
   "cell_type": "markdown",
   "id": "3278ca7b",
   "metadata": {},
   "source": [
    "The error in our parameters is derived in much the same way, albeit with a different prediction and thus different noise. Let's just run the code again, adding `n` in front of each variable:"
   ]
  },
  {
   "cell_type": "code",
   "execution_count": 730,
   "id": "531022e6",
   "metadata": {},
   "outputs": [
    {
     "name": "stdout",
     "output_type": "stream",
     "text": [
      "The errors are [4.25479046e-04 5.35834557e-05 7.58809724e-05]\n"
     ]
    }
   ],
   "source": [
    "# new noise\n",
    "npred = calc_lorentz(params_n,t)[0]\n",
    "nN = np.mean((d-npred)**2)\n",
    "\n",
    "# parameter errors\n",
    "ngrad = params_grad(lorentz,t,params_n) # use differential gradient\n",
    "nlhs = ngrad.T@ngrad\n",
    "par_errs_n = np.sqrt(N*np.diag(np.linalg.inv(nlhs)))\n",
    "print(\"The errors are {}\".format(par_errs_n))"
   ]
  },
  {
   "cell_type": "code",
   "execution_count": 731,
   "id": "b680e234",
   "metadata": {},
   "outputs": [
    {
     "name": "stdout",
     "output_type": "stream",
     "text": [
      "a = 1.4228106806631224 +/- 0.0004254790456739953\n",
      "t0 = 1.923586493745958 +/- 5.3583455669798896e-05\n",
      "w = 0.17923690793233896 +/- 7.58809723886368e-05\n"
     ]
    }
   ],
   "source": [
    "print(\"a = {} +/- {}\".format(params_n[0],par_errs_n[0]))\n",
    "print(\"t0 = {} +/- {}\".format(params_n[1],par_errs_n[1]))\n",
    "print(\"w = {} +/- {}\".format(params_n[2],par_errs_n[2]))"
   ]
  },
  {
   "cell_type": "markdown",
   "id": "8c2556dc",
   "metadata": {},
   "source": [
    "We see that both methods are indeed consistent! This is of course to be expected."
   ]
  },
  {
   "cell_type": "markdown",
   "id": "02baae1f",
   "metadata": {},
   "source": [
    "## 1.d)"
   ]
  },
  {
   "cell_type": "markdown",
   "id": "6236cdc5",
   "metadata": {},
   "source": [
    "We now repeat this process with a slightly better model of three lorentzians, still sticking with our numerical derivatives:\n",
    "\\begin{equation}\n",
    "d =  \\frac{a}{1 + \\left(\\frac{t-t_0}{\\omega}\\right)^2} +  \\frac{b}{1 + \\left(\\frac{t-t_0+dt}{\\omega}\\right)^2} +  \\frac{c}{1 + \\left(\\frac{t-t_0-dt}{\\omega}\\right)^2}\n",
    "\\end{equation}\n",
    "in hopes of modelling the little kinks that show up slightly below the FWHM."
   ]
  },
  {
   "cell_type": "code",
   "execution_count": 732,
   "id": "72b9664a",
   "metadata": {},
   "outputs": [],
   "source": [
    "def lorentz_3(t,a,b,c,t0,dt,w):\n",
    "    \"\"\"\n",
    "    Model for the three-peaked lorentzian\n",
    "    \"\"\"\n",
    "    y1 = a / (1 + ((t-t0)/w)**2)\n",
    "    y2 = b / (1 + ((t-t0+dt)/w)**2) \n",
    "    y3 = c / (1 + ((t-t0-dt)/w)**2)\n",
    "    \n",
    "    return y1+y2+y3\n",
    "\n",
    "def lorentz_3_p(t,params):\n",
    "    \"\"\"\n",
    "    Model for the three-peaked lorentzian\n",
    "    takes in params instead of each individual parameter\n",
    "    \"\"\"\n",
    "    a,b,c,t0,dt,w=params\n",
    "    y1 = a / (1 + ((t-t0)/w)**2)\n",
    "    y2 = b / (1 + ((t-t0+dt)/w)**2) \n",
    "    y3 = c / (1 + ((t-t0-dt)/w)**2)\n",
    "    \n",
    "    return y1+y2+y3\n",
    "\n",
    "def params_grad_3(fun,t,params):\n",
    "    \"\"\"\n",
    "    Returns the numerical derivative at points `params` in parameter space\n",
    "    \"\"\"\n",
    "    a, b, c, t0, dt, w = params\n",
    "    \n",
    "    # derivative w.r.t a at p\n",
    "    fun_a = lambda aa: fun(t,aa,b,c,t0,dt,w)\n",
    "    grad_a = ndiff2(fun_a,a)\n",
    "    \n",
    "    # derivative w.r.t t0 at p\n",
    "    fun_b = lambda bb: fun(t,a,bb,c,t0,dt,w)\n",
    "    grad_b = ndiff2(fun_b,b)\n",
    "    \n",
    "    # derivative w.r.t w at p\n",
    "    fun_c = lambda cc: fun(t,a,b,cc,t0,dt,w)\n",
    "    grad_c = ndiff2(fun_c,c)\n",
    "    \n",
    "    # derivative w.r.t w at p\n",
    "    fun_t0 = lambda t00: fun(t,a,b,c,t00,dt,w)\n",
    "    grad_t0 = ndiff2(fun_t0,t0)\n",
    "    \n",
    "    # derivative w.r.t w at p\n",
    "    fun_dt = lambda dtt: fun(t,a,b,c,t0,dtt,w)\n",
    "    grad_dt = ndiff2(fun_dt,dt)\n",
    "    \n",
    "    # derivative w.r.t w at p\n",
    "    fun_w = lambda ww: fun(t,a,b,c,t0,dt,ww)\n",
    "    grad_w = ndiff2(fun_w,w)\n",
    "\n",
    "    # transpose to make it match with calc_lorentz\n",
    "    return np.array([grad_a, grad_b, grad_c, grad_t0, grad_dt, grad_w]).T"
   ]
  },
  {
   "cell_type": "code",
   "execution_count": 733,
   "id": "cc4a5f74",
   "metadata": {},
   "outputs": [],
   "source": [
    "# initial parameters\n",
    "p0_3 = np.array([1,0.2,0.2,2,0.5,0.2])"
   ]
  },
  {
   "cell_type": "code",
   "execution_count": 734,
   "id": "bf2934e3",
   "metadata": {},
   "outputs": [],
   "source": [
    "def nnewtons_method_3(p0,t,d,num,print_params=False):\n",
    "    \"\"\"\n",
    "    Numerical derivative version of `newtons_method`\n",
    "    Runs Newton's method for initial parameter guess p0\n",
    "    t and d are the time and data, resp.\n",
    "    \"\"\"\n",
    "    # starting parameters is p0\n",
    "    p = p0.copy()\n",
    "\n",
    "    for i in range(num):\n",
    "        # calculate derivatives and function\n",
    "        a,b,c,t0,dt,w = p\n",
    "        pred = lorentz_3(t,a,b,c,t0,dt,w)\n",
    "        grad = params_grad_3(lorentz_3,t,p)\n",
    "        \n",
    "        # delta is difference between data and prediction\n",
    "        # thanks Jon for the code\n",
    "        r = d - pred\n",
    "        err = (r**2).sum()\n",
    "        r = r.T\n",
    "        \n",
    "        lhs=grad.T@grad\n",
    "        rhs=grad.T@r\n",
    "        dp=np.linalg.pinv(lhs)@(rhs)\n",
    "        for jj in range(p.size):\n",
    "            p[jj]=p[jj]+dp[jj]\n",
    "                        \n",
    "        if print_params:\n",
    "            print(\"The parameters are:\",p)\n",
    "            print(\"The step is:\",dp)\n",
    "    \n",
    "    return p, dp"
   ]
  },
  {
   "cell_type": "code",
   "execution_count": 735,
   "id": "59759780",
   "metadata": {},
   "outputs": [
    {
     "name": "stdout",
     "output_type": "stream",
     "text": [
      "The parameters are: [1.25875659 0.03205901 0.05125319 1.88432247 0.47285126 0.19661898]\n",
      "The step is: [ 0.25875659 -0.16794099 -0.14874681 -0.11567753 -0.02714874 -0.00338102]\n",
      "The parameters are: [1.37180079 0.08195452 0.02660507 1.93394328 0.44559526 0.17452995]\n",
      "The step is: [ 0.11304419  0.04989551 -0.02464813  0.04962081 -0.027256   -0.02208903]\n",
      "The parameters are: [1.43982394 0.10777217 0.07082785 1.92477355 0.42700082 0.15811208]\n",
      "The step is: [ 0.06802316  0.02581765  0.04422278 -0.00916974 -0.01859444 -0.01641788]\n",
      "The parameters are: [1.44205621 0.10215355 0.06123417 1.92592106 0.44924194 0.16136805]\n",
      "The step is: [ 0.00223227 -0.00561862 -0.00959367  0.00114751  0.02224112  0.00325598]\n",
      "The parameters are: [1.44307903 0.10406581 0.06518901 1.92575537 0.44424686 0.1605438 ]\n",
      "The step is: [ 0.00102281  0.00191226  0.00395484 -0.00016568 -0.00499508 -0.00082425]\n",
      "The parameters are: [1.44296118 0.10385718 0.06455757 1.92579343 0.44602098 0.16068572]\n",
      "The step is: [-1.17846501e-04 -2.08629460e-04 -6.31447829e-04  3.80541334e-05\n",
      "  1.77412166e-03  1.41916755e-04]\n",
      "The parameters are: [1.44299988 0.103924   0.06477542 1.92578303 0.44557278 0.16064228]\n",
      "The step is: [ 3.87016942e-05  6.68180855e-05  2.17855240e-04 -1.03959625e-05\n",
      " -4.48208665e-04 -4.34353706e-05]\n",
      "The parameters are: [1.44299029 0.10390712 0.06472046 1.92578582 0.44569823 0.16065354]\n",
      "The step is: [-9.59703866e-06 -1.68778184e-05 -5.49570684e-05  2.78776448e-06\n",
      "  1.25450440e-04  1.12520583e-05]\n",
      "The parameters are: [1.44299296 0.10391177 0.06473578 1.92578506 0.44566437 0.16065043]\n",
      "The step is: [ 2.67639407e-06  4.65592114e-06  1.53164082e-05 -7.61059931e-07\n",
      " -3.38549361e-05 -3.10241325e-06]\n",
      "The parameters are: [1.44299224 0.10391051 0.06473164 1.92578526 0.44567361 0.16065127]\n",
      "The step is: [-7.22107993e-07 -1.26257270e-06 -4.13926074e-06  2.06795224e-07\n",
      "  9.23803006e-06  8.40973824e-07]\n",
      "The parameters are: [1.44299244 0.10391086 0.06473277 1.92578521 0.4456711  0.16065104]\n",
      "The step is: [ 1.96995088e-07  3.43862011e-07  1.12884170e-06 -5.63107473e-08\n",
      " -2.51228765e-06 -2.29126570e-07]\n",
      "The parameters are: [1.44299238 0.10391076 0.06473246 1.92578522 0.44567178 0.16065111]\n",
      "The step is: [-5.35756177e-08 -9.35708310e-08 -3.07044855e-07  1.53225664e-08\n",
      "  6.83893689e-07  6.23396772e-08]\n",
      "The parameters are: [1.4429924  0.10391079 0.06473255 1.92578522 0.44567159 0.16065109]\n",
      "The step is: [ 1.45839640e-08  2.54668017e-08  8.35787461e-08 -4.17042367e-09\n",
      " -1.86115824e-07 -1.69677077e-08]\n",
      "The parameters are: [1.44299239 0.10391078 0.06473252 1.92578522 0.44567165 0.16065109]\n",
      "The step is: [-3.96893070e-09 -6.93098494e-09 -2.27456395e-08  1.13499557e-09\n",
      "  5.06539758e-08  4.61780484e-09]\n",
      "The parameters are: [1.4429924  0.10391078 0.06473253 1.92578522 0.44567163 0.16065109]\n",
      "The step is: [ 1.08019626e-09  1.88632901e-09  6.19050565e-09 -3.08900964e-10\n",
      " -1.37858548e-08 -1.25678405e-09]\n",
      "The parameters are: [1.4429924  0.10391078 0.06473253 1.92578522 0.44567163 0.16065109]\n",
      "The step is: [-2.93983499e-10 -5.13381049e-10 -1.68479454e-09  8.40698908e-11\n",
      "  3.75194699e-09  3.42044236e-10]\n",
      "The parameters are: [1.4429924  0.10391078 0.06473253 1.92578522 0.44567163 0.16065109]\n",
      "The step is: [ 8.00101815e-11  1.39720981e-10  4.58531901e-10 -2.28803551e-11\n",
      " -1.02112485e-09 -9.30903339e-11]\n",
      "The parameters are: [1.4429924  0.10391078 0.06473253 1.92578522 0.44567163 0.16065109]\n",
      "The step is: [-2.17755007e-11 -3.80262351e-11 -1.24793376e-10  6.22710250e-12\n",
      "  2.77907870e-10  2.53353409e-11]\n",
      "The parameters are: [1.4429924  0.10391078 0.06473253 1.92578522 0.44567163 0.16065109]\n",
      "The step is: [ 5.92640313e-12  1.03492523e-11  3.39636068e-11 -1.69467066e-12\n",
      " -7.56349835e-11 -6.89525192e-12]\n",
      "The parameters are: [1.4429924  0.10391078 0.06473253 1.92578522 0.44567163 0.16065109]\n",
      "The step is: [-1.61285256e-12 -2.81659843e-12 -9.24343842e-12  4.61215966e-13\n",
      "  2.05847141e-11  1.87660173e-12]\n",
      "The parameters are: [1.4429924  0.10391078 0.06473253 1.92578522 0.44567163 0.16065109]\n",
      "The step is: [ 4.38957488e-13  7.66394911e-13  2.51548937e-12 -1.25501018e-13\n",
      " -5.60236587e-12 -5.10698878e-13]\n",
      "The parameters are: [1.4429924  0.10391078 0.06473253 1.92578522 0.44567163 0.16065109]\n",
      "The step is: [-1.19490661e-13 -2.08513530e-13 -6.84505520e-13  3.41179469e-14\n",
      "  1.52481075e-12  1.38976453e-13]\n",
      "The parameters are: [1.4429924  0.10391078 0.06473253 1.92578522 0.44567163 0.16065109]\n",
      "The step is: [ 3.24544319e-14  5.67107413e-14  1.86300536e-13 -9.37274296e-15\n",
      " -4.15000342e-13 -3.78104108e-14]\n",
      "The parameters are: [1.4429924  0.10391078 0.06473253 1.92578522 0.44567163 0.16065109]\n",
      "The step is: [-8.73971627e-15 -1.53101240e-14 -5.06230388e-14  2.48003512e-15\n",
      "  1.12783599e-13  1.02614003e-14]\n",
      "The parameters are: [1.4429924  0.10391078 0.06473253 1.92578522 0.44567163 0.16065109]\n",
      "The step is: [ 2.31216085e-15  4.17756246e-15  1.37738609e-14 -6.50810196e-16\n",
      " -3.06660854e-14 -2.80526846e-15]\n"
     ]
    }
   ],
   "source": [
    "num_3 = 25 # seems to do the trick!\n",
    "params_3, dps_3 = nnewtons_method_3(p0=p0_3,t=t,d=d,num=num_3,print_params=True)"
   ]
  },
  {
   "cell_type": "code",
   "execution_count": 943,
   "id": "3f863b4d",
   "metadata": {},
   "outputs": [
    {
     "data": {
      "image/png": "[encoded data removed]",
      "text/plain": [
       "<Figure size 432x288 with 1 Axes>"
      ]
     },
     "metadata": {},
     "output_type": "display_data"
    }
   ],
   "source": [
    "pred_3 = lorentz_3_p(t,params_3)\n",
    "\n",
    "plt.title(\"Newton's method -- numerical with 3 peaks\")\n",
    "plt.plot(t,pred_3)\n",
    "plt.plot(t,d)\n",
    "plt.ylabel(r\"$d$\")\n",
    "plt.xlabel(r\"$t$\")\n",
    "plt.show()"
   ]
  },
  {
   "cell_type": "code",
   "execution_count": 737,
   "id": "67f01672",
   "metadata": {},
   "outputs": [
    {
     "name": "stdout",
     "output_type": "stream",
     "text": [
      "The errors are [4.61217615e-04 4.39904310e-04 4.30740786e-04 5.46062062e-05\n",
      " 6.58286918e-04 9.77950891e-05]\n"
     ]
    }
   ],
   "source": [
    "N3 = np.mean((d-pred_3)**2)\n",
    "\n",
    "# parameter errors\n",
    "grad3 = params_grad_3(lorentz_3,t,params_3) # use differential gradient\n",
    "lhs3 = grad3.T@grad3\n",
    "par_errs_3 = np.sqrt(N*np.diag(np.linalg.inv(lhs3)))\n",
    "print(\"The errors are {}\".format(par_errs_3))"
   ]
  },
  {
   "cell_type": "code",
   "execution_count": 738,
   "id": "45cb0b2a",
   "metadata": {},
   "outputs": [
    {
     "name": "stdout",
     "output_type": "stream",
     "text": [
      "a = 1.4429923952636599 +/- 0.0004612176148250897\n",
      "b = 0.10391078247787726 +/- 0.00043990430991299356\n",
      "c = 0.06473252922179458 +/- 0.0004307407855099515\n",
      "t0 = 1.9257852184591313 +/- 5.460620617357128e-05\n",
      "dt = 0.4456716341697543 +/- 0.0006582869183612527\n",
      "w = 0.16065109386337342 +/- 9.779508906035393e-05\n"
     ]
    }
   ],
   "source": [
    "print(\"a = {} +/- {}\".format(params_3[0],par_errs_3[0]))\n",
    "print(\"b = {} +/- {}\".format(params_3[1],par_errs_3[1]))\n",
    "print(\"c = {} +/- {}\".format(params_3[2],par_errs_3[2]))\n",
    "print(\"t0 = {} +/- {}\".format(params_3[3],par_errs_3[3]))\n",
    "print(\"dt = {} +/- {}\".format(params_3[4],par_errs_3[4]))\n",
    "print(\"w = {} +/- {}\".format(params_3[5],par_errs_3[5]))"
   ]
  },
  {
   "cell_type": "markdown",
   "id": "85567c52",
   "metadata": {
    "heading_collapsed": true
   },
   "source": [
    "## 1.e)"
   ]
  },
  {
   "cell_type": "code",
   "execution_count": 739,
   "id": "f79071f0",
   "metadata": {
    "hidden": true
   },
   "outputs": [],
   "source": [
    "residuals = pred_3 - d\n",
    "res_errs = noise # residual errors is simply square root of noise"
   ]
  },
  {
   "cell_type": "code",
   "execution_count": 944,
   "id": "41a2bdec",
   "metadata": {
    "hidden": true
   },
   "outputs": [
    {
     "data": {
      "image/png": "[encoded data removed]",
      "text/plain": [
       "<Figure size 432x288 with 1 Axes>"
      ]
     },
     "metadata": {},
     "output_type": "display_data"
    }
   ],
   "source": [
    "plt.figure()\n",
    "\n",
    "plt.title(\"Residuals of our fit in d)\")\n",
    "\n",
    "plt.errorbar(t,residuals,yerr=res_errs,fmt='.',markersize=1,alpha=0.01,ecolor='r')\n",
    "\n",
    "plt.axhline(y=0,c='k',ls='--')\n",
    "\n",
    "# plt.scatter(t,residuals,marker='.',s=1,c=r)\n",
    "\n",
    "plt.ylabel(r\"residuals\")\n",
    "plt.xlabel(r\"$t$\")\n",
    "\n",
    "plt.show()"
   ]
  },
  {
   "cell_type": "markdown",
   "id": "c3c36fb6",
   "metadata": {
    "hidden": true
   },
   "source": [
    "The residuals are in blue while the errobars are in red. We can clearly see some oscillatory pattern here, indicating that our model is not a complete representation of the data (we are potentially missing some important physics). We should therefore *not* believe the error bars we got by simply assuming uniform and independent errors.  "
   ]
  },
  {
   "cell_type": "markdown",
   "id": "6f6b1449",
   "metadata": {
    "heading_collapsed": true
   },
   "source": [
    "## 1. f)"
   ]
  },
  {
   "cell_type": "markdown",
   "id": "d45957a4",
   "metadata": {
    "hidden": true
   },
   "source": [
    "We would now like to explore near our ideal parameters and plot some fits by using the full covariance matrix $(A^T N^{-1} A)^{-1}=$`np.linalg.inv(lhs3)`. "
   ]
  },
  {
   "cell_type": "code",
   "execution_count": 750,
   "id": "b236c4a3",
   "metadata": {
    "hidden": true
   },
   "outputs": [],
   "source": [
    "# full covariance matrix\n",
    "cov_3 = np.linalg.inv(lhs3) \n",
    "\n",
    "# generate some new fits near the ideal ones\n",
    "num_other = 100\n",
    "other_preds = np.zeros((num_other,t.size),dtype=float)\n",
    "for i in range(num_other):\n",
    "    # generate the new parameters\n",
    "    other_params = np.random.multivariate_normal(params_3,cov_3)\n",
    "    # what is the curve?\n",
    "    other_preds[i,:] = lorentz_3_p(t,other_params)"
   ]
  },
  {
   "cell_type": "code",
   "execution_count": 949,
   "id": "e612b18f",
   "metadata": {
    "hidden": true
   },
   "outputs": [
    {
     "data": {
      "image/png": "[encoded data removed]",
      "text/plain": [
       "<Figure size 432x288 with 1 Axes>"
      ]
     },
     "metadata": {},
     "output_type": "display_data"
    }
   ],
   "source": [
    "plt.figure()\n",
    "\n",
    "plt.title(\"Many different Newton's method fits\")\n",
    "\n",
    "plt.scatter(t,d,s=1,c='k',label='data')\n",
    "for i in range(num_other):\n",
    "    plt.plot(t,other_preds[i,:])\n",
    "    \n",
    "plt.ylabel(r\"$d$\")\n",
    "plt.xlabel(r\"$t$\")\n",
    "plt.legend()\n",
    "plt.show()"
   ]
  },
  {
   "cell_type": "markdown",
   "id": "9d70611c",
   "metadata": {
    "hidden": true
   },
   "source": [
    "Check that there is indeed some differen between the two:"
   ]
  },
  {
   "cell_type": "code",
   "execution_count": 753,
   "id": "fe0e99a3",
   "metadata": {
    "hidden": true
   },
   "outputs": [
    {
     "name": "stdout",
     "output_type": "stream",
     "text": [
      "[-7.28129222e-05  2.14463948e-02  1.53889177e-02  2.94655515e-03\n",
      " -2.87616565e-02 -7.24783304e-03]\n"
     ]
    }
   ],
   "source": [
    "print(params_3-other_params)"
   ]
  },
  {
   "cell_type": "markdown",
   "id": "3cbebb83",
   "metadata": {
    "hidden": true
   },
   "source": [
    "There is! Now, how does the $\\chi^2$ of each new fit compare to our optimal fit?"
   ]
  },
  {
   "cell_type": "code",
   "execution_count": 817,
   "id": "61ccce24",
   "metadata": {
    "hidden": true
   },
   "outputs": [],
   "source": [
    "def chisquared(d,pred,errs):\n",
    "    \"\"\"\n",
    "    Computes chi-squared given some data d and pred\n",
    "    In our case, errs is a constant and is always the same\n",
    "    \"\"\"\n",
    "    chi2 = np.sum((pred-d)**2/errs**2)\n",
    "    \n",
    "    return chi2"
   ]
  },
  {
   "cell_type": "code",
   "execution_count": 818,
   "id": "560d6937",
   "metadata": {
    "hidden": true
   },
   "outputs": [
    {
     "name": "stdout",
     "output_type": "stream",
     "text": [
      "Typical differen in chi^2 is: -4202181.895480522\n"
     ]
    }
   ],
   "source": [
    "# compute the chi^2 of other fits\n",
    "chisquared_others = np.array([chisquared(d,other_preds[i,:],noise) for i in range(num_other)])\n",
    "\n",
    "# compute the mean of the difference between our optimal chi^2 and the others\n",
    "typical_difference = np.mean(chisquared(d,pred_3,noise)-chisquared(d,other_preds,noise))\n",
    "print(\"Typical differen in chi^2 is: {}\".format(typical_difference))"
   ]
  },
  {
   "cell_type": "markdown",
   "id": "0915857f",
   "metadata": {
    "hidden": true
   },
   "source": [
    "It is negative, since our optimal parameters have a smaller $\\chi^2$ (better fit) than other sets of parameters near these points, as expected!. Note moreover that the optimal parameters $\\chi^2$ (shown in red below) is lower than all others, again as expected!"
   ]
  },
  {
   "cell_type": "code",
   "execution_count": 951,
   "id": "ebbd432a",
   "metadata": {
    "hidden": true
   },
   "outputs": [
    {
     "data": {
      "image/png": "[encoded data removed]",
      "text/plain": [
       "<Figure size 432x288 with 1 Axes>"
      ]
     },
     "metadata": {},
     "output_type": "display_data"
    }
   ],
   "source": [
    "plt.figure()\n",
    "\n",
    "plt.title(r\"$\\chi^2$s for different fits near the optimal fit\")\n",
    "\n",
    "plt.scatter(0,chisquared(d,pred_3,noise),c='r')\n",
    "for i in range(num_other):\n",
    "    plt.scatter(i+1,chisquared(d,other_preds[i,:],noise),c='k')\n",
    "    \n",
    "plt.ylabel(r\"$\\chi^2$\")\n",
    "plt.xlabel(r\"$t$\")\n",
    "\n",
    "plt.show()"
   ]
  },
  {
   "cell_type": "markdown",
   "id": "9f9aa52b",
   "metadata": {},
   "source": [
    "## 1. g)"
   ]
  },
  {
   "cell_type": "markdown",
   "id": "2293bb67",
   "metadata": {},
   "source": [
    "Now, we would like to redo the fit using an MCMC algorithm. "
   ]
  },
  {
   "cell_type": "code",
   "execution_count": 918,
   "id": "25a63fce",
   "metadata": {},
   "outputs": [],
   "source": [
    "def random_step(cov):\n",
    "    \"\"\"\n",
    "    Random Gaussian step in each parameter\n",
    "    \"\"\"\n",
    "    scale = 0.9\n",
    "    \n",
    "    cov = cov/scale\n",
    "    \n",
    "    step = np.random.multivariate_normal(np.zeros(cov.shape[0]),cov)\n",
    "    \n",
    "    return step\n",
    "    \n",
    "def mcmc_step(params,chisq,cov,errs):\n",
    "    \"\"\"\n",
    "    Single step in MCMC chain\n",
    "    Params is a vector \n",
    "    Param_errs is the covariance in the initial parameters in the \n",
    "    \"\"\"\n",
    "    # compute a set of new trial parameters \n",
    "    new_params = params + random_step(cov)\n",
    "    \n",
    "    # they predict the following data\n",
    "    new_pred = lorentz_3_p(t,new_params)\n",
    "    \n",
    "    # this data has the following chi squared\n",
    "    new_chisq = chisquared(d,new_pred,errs)\n",
    "    \n",
    "    # if it improves the chi squared, always accept\n",
    "    # if not, accept it with a probability exp(-1/2* ((x^2)new - (x^2)old))\n",
    "    log_accept_prob = -1/2*(new_chisq - chisq)\n",
    "    \n",
    "    # make it a log to avoid computing exponentials\n",
    "    if np.log(np.random.rand(1)) < log_accept_prob:\n",
    "        return new_params, new_chisq\n",
    "    else:\n",
    "        return params, chisq\n",
    "    \n",
    "def mcmc_main(t,d,initial_params,cov,errs,nstep=20000):\n",
    "    \"\"\"\n",
    "    Main function for the MCMC chain\n",
    "    \"\"\"\n",
    "    # initialize chain\n",
    "    n = initial_params.size\n",
    "    chain_params = np.zeros((nstep,n),dtype=float)\n",
    "    chain_params[0,:] = initial_params\n",
    "    \n",
    "    # compute initial chi squared\n",
    "    pred = lorentz_3_p(t,initial_params)\n",
    "    initial_chisq = chisquared(d,pred,errs)\n",
    "    chain_chisq = np.zeros(nstep,dtype=float)\n",
    "    chain_chisq[0] = initial_chisq\n",
    "            \n",
    "    # take `nstep` number of steps\n",
    "    for i in range(1,nstep):\n",
    "        # get the old parameters\n",
    "        params = chain_params[i-1,:]\n",
    "        chisq = chain_chisq[i-1]\n",
    "        # compute the putative new ones\n",
    "        params_, chisq_ = mcmc_step(params,chisq,cov,errs)\n",
    "        # put them into the chain\n",
    "        chain_params[i,:] = params_\n",
    "        chain_chisq[i] = chisq_\n",
    "        \n",
    "    return chain_params, chain_chisq"
   ]
  },
  {
   "cell_type": "code",
   "execution_count": 924,
   "id": "4d01c10c",
   "metadata": {},
   "outputs": [],
   "source": [
    "initial_params = p0_3\n",
    "\n",
    "nsteps = 20000\n",
    "\n",
    "chain_params, chain_chisq = mcmc_main(t,d,initial_params,cov_3,noise,nstep=nsteps)"
   ]
  },
  {
   "cell_type": "code",
   "execution_count": 952,
   "id": "b9d8ee06",
   "metadata": {},
   "outputs": [
    {
     "data": {
      "image/png": "[encoded data removed]",
      "text/plain": [
       "<Figure size 432x288 with 1 Axes>"
      ]
     },
     "metadata": {},
     "output_type": "display_data"
    }
   ],
   "source": [
    "plt.figure()\n",
    "\n",
    "plt.title(r\"Convergence of $c$\")\n",
    "\n",
    "plt.plot(np.arange(nsteps),chain_params[:,2])\n",
    "\n",
    "plt.ylabel(r\"$c$\")\n",
    "plt.xlabel(r\"MCMC iteration\")\n",
    "\n",
    "plt.show()"
   ]
  },
  {
   "cell_type": "markdown",
   "id": "45d57168",
   "metadata": {},
   "source": [
    "It seems to have converged. To find the errors on each parameter, we simply calculate the covariance of the chain. We can chop out the burn-in period, which happens up until $\\sim 2500$ steps."
   ]
  },
  {
   "cell_type": "code",
   "execution_count": 974,
   "id": "00ecbd8a",
   "metadata": {},
   "outputs": [],
   "source": [
    "burnin = 2500\n",
    "param_errs_mcmc = np.std(chain_params[burnin:,:],axis=0)"
   ]
  },
  {
   "cell_type": "markdown",
   "id": "aecf38bf",
   "metadata": {},
   "source": [
    "Our best parameters are:"
   ]
  },
  {
   "cell_type": "code",
   "execution_count": 975,
   "id": "842f4c1a",
   "metadata": {},
   "outputs": [
    {
     "name": "stdout",
     "output_type": "stream",
     "text": [
      "a = 1.4408067061131538 +/- 0.0003575025991260244\n",
      "b = 0.1043948532665454 +/- 0.0029758376912612234\n",
      "c = 0.06437626666566036 +/- 0.001228108764122675\n",
      "t0 = 1.926168926942645 +/- 0.00044399988342391826\n",
      "dt = 0.44199300313834083 +/- 0.0027613838049588557\n",
      "w = 0.16109836884720874 +/- 0.000219611950597881\n"
     ]
    }
   ],
   "source": [
    "params_mcmc = chain_params[-1,:]\n",
    "\n",
    "print(\"a = {} +/- {}\".format(params_mcmc[0],param_errs_mcmc[0]))\n",
    "print(\"b = {} +/- {}\".format(params_mcmc[1],param_errs_mcmc[1]))\n",
    "print(\"c = {} +/- {}\".format(params_mcmc[2],param_errs_mcmc[2]))\n",
    "print(\"t0 = {} +/- {}\".format(params_mcmc[3],param_errs_mcmc[3]))\n",
    "print(\"dt = {} +/- {}\".format(params_mcmc[4],param_errs_mcmc[4]))\n",
    "print(\"w = {} +/- {}\".format(params_mcmc[5],param_errs_mcmc[5]))"
   ]
  },
  {
   "cell_type": "markdown",
   "id": "7faaa4ee",
   "metadata": {},
   "source": [
    "These are all consistent with our previosuly obtained parameters, except for $a$. Our error bars did indeed change when compared to the previous 3-peaked numerical Newton's method! They all got much larger.\n",
    "\n",
    "Plot the fit to make sure we have good parameters:"
   ]
  },
  {
   "cell_type": "code",
   "execution_count": 976,
   "id": "2933faa6",
   "metadata": {},
   "outputs": [],
   "source": [
    "pred_mcmc = lorentz_3_p(t,params_mcmc)"
   ]
  },
  {
   "cell_type": "code",
   "execution_count": 977,
   "id": "aaf29930",
   "metadata": {},
   "outputs": [
    {
     "data": {
      "image/png": "[encoded data removed]",
      "text/plain": [
       "<Figure size 432x288 with 1 Axes>"
      ]
     },
     "metadata": {},
     "output_type": "display_data"
    }
   ],
   "source": [
    "plt.figure()\n",
    "\n",
    "plt.title(\"MCMC fit to data\")\n",
    "\n",
    "plt.scatter(t,d,marker='.',s=1,c='k',label='data')\n",
    "plt.plot(t,pred_mcmc,c='r',label='MCMC')\n",
    "plt.ylabel(r\"$d$\")\n",
    "plt.xlabel(r\"$t$\")\n",
    "plt.legend()\n",
    "plt.show()"
   ]
  },
  {
   "cell_type": "markdown",
   "id": "0bc8a4ea",
   "metadata": {},
   "source": [
    "## 1.h)"
   ]
  },
  {
   "cell_type": "markdown",
   "id": "e27937da",
   "metadata": {},
   "source": [
    "The width of the cavity resonance is the parameter `w`, or $w$. Taking $dt \\rightarrow 9 \\mathrm{GHz}$, we can solve for the true width $w_{true}$ via\n",
    "\\begin{equation}\n",
    "\\frac{9 GHz}{w_{true}}=\\frac{dt}{w}.\n",
    "\\end{equation}\n",
    "This yields"
   ]
  },
  {
   "cell_type": "code",
   "execution_count": 978,
   "id": "de6e3884",
   "metadata": {},
   "outputs": [],
   "source": [
    "# important! un-scale from beginning\n",
    "dt_mcmc = params_mcmc[4] / 1e4\n",
    "w_mcmc = params_mcmc[5] / 1e4\n",
    "\n",
    "# compute the value\n",
    "w_true = 9*w_mcmc/dt_mcmc"
   ]
  },
  {
   "cell_type": "code",
   "execution_count": 990,
   "id": "df17c4d0",
   "metadata": {},
   "outputs": [],
   "source": [
    "# errors are found via monte carlo method\n",
    "# we just generate a large normal sampe and compute its np.std\n",
    "w_mcmc_m = np.random.normal(loc=w_mcmc,scale=param_errs_mcmc[5]/1e4,size=10000) # careful with the scales\n",
    "dt_mcmc_m = np.random.normal(loc=dt_mcmc,scale=param_errs_mcmc[4]/1e4,size=10000)\n",
    "\n",
    "w_true_m = 9*w_mcmc_m/dt_mcmc_m\n",
    "w_true_err = np.std(w_true_m)"
   ]
  },
  {
   "cell_type": "code",
   "execution_count": 991,
   "id": "7bc6e6af",
   "metadata": {},
   "outputs": [
    {
     "name": "stdout",
     "output_type": "stream",
     "text": [
      "The actual width of the cavity resonance is 3.28 +/- 0.02 GHz\n"
     ]
    }
   ],
   "source": [
    "print(\"The actual width of the cavity resonance is {:.3} +/- {:.1} GHz\".format(w_true,w_true_err))"
   ]
  },
  {
   "cell_type": "code",
   "execution_count": null,
   "id": "bd3b8963",
   "metadata": {},
   "outputs": [],
   "source": []
  }
 ],
 "metadata": {
  "kernelspec": {
   "display_name": "Python 3 (ipykernel)",
   "language": "python",
   "name": "python3"
  },
  "language_info": {
   "codemirror_mode": {
    "name": "ipython",
    "version": 3
   },
   "file_extension": ".py",
   "mimetype": "text/x-python",
   "name": "python",
   "nbconvert_exporter": "python",
   "pygments_lexer": "ipython3",
   "version": "3.9.12"
  },
  "varInspector": {
   "cols": {
    "lenName": 16,
    "lenType": 16,
    "lenVar": 40
   },
   "kernels_config": {
    "python": {
     "delete_cmd_postfix": "",
     "delete_cmd_prefix": "del ",
     "library": "var_list.py",
     "varRefreshCmd": "print(var_dic_list())"
    },
    "r": {
     "delete_cmd_postfix": ") ",
     "delete_cmd_prefix": "rm(",
     "library": "var_list.r",
     "varRefreshCmd": "cat(var_dic_list()) "
    }
   },
   "types_to_exclude": [
    "module",
    "function",
    "builtin_function_or_method",
    "instance",
    "_Feature"
   ],
   "window_display": false
  }
 },
 "nbformat": 4,
 "nbformat_minor": 5
}
